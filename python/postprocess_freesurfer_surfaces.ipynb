{
 "cells": [
  {
   "cell_type": "code",
   "execution_count": 13,
   "metadata": {},
   "outputs": [],
   "source": [
    "import os\n",
    "import sys\n",
    "import subprocess\n",
    "import numpy as np\n",
    "import nibabel as nib\n",
    "from megsurfer import *"
   ]
  },
  {
   "cell_type": "code",
   "execution_count": null,
   "metadata": {},
   "outputs": [
    {
     "name": "stdout",
     "output_type": "stream",
     "text": [
      "[ 2.02536 36.9153  16.8828 ]\n",
      "Saving ./test_output/sub-104/lh.pial.gii as a surface\n",
      "Saving ./test_output/sub-104/rh.pial.gii as a surface\n",
      "Saving ./test_output/sub-104/lh.white.gii as a surface\n",
      "Saving ./test_output/sub-104/rh.white.gii as a surface\n"
     ]
    }
   ],
   "source": [
    "postprocess_freesurfer_surfaces('sub-104',                                \n",
    "                                './test_output',\n",
    "                                'multilayer.2.ds.link_vector.gii',\n",
    "                                n_surfaces=2, \n",
    "                                ds_factor=0.1, \n",
    "                                orientation='link', \n",
    "                                remove_deep=True)"
   ]
  },
  {
   "cell_type": "code",
   "execution_count": null,
   "metadata": {},
   "outputs": [],
   "source": []
  }
 ],
 "metadata": {
  "kernelspec": {
   "display_name": "MEGsurfer",
   "language": "python",
   "name": "megsurfer"
  },
  "language_info": {
   "codemirror_mode": {
    "name": "ipython",
    "version": 3
   },
   "file_extension": ".py",
   "mimetype": "text/x-python",
   "name": "python",
   "nbconvert_exporter": "python",
   "pygments_lexer": "ipython3",
   "version": "3.8.18"
  }
 },
 "nbformat": 4,
 "nbformat_minor": 4
}
