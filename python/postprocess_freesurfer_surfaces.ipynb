{
 "cells": [
  {
   "cell_type": "code",
   "execution_count": 1,
   "metadata": {},
   "outputs": [],
   "source": [
    "import os\n",
    "import sys\n",
    "import subprocess\n",
    "import numpy as np\n",
    "import nibabel as nib\n",
    "from surf import *"
   ]
  },
  {
   "cell_type": "code",
   "execution_count": 2,
   "metadata": {},
   "outputs": [
    {
     "name": "stdout",
     "output_type": "stream",
     "text": [
      "[ 2.02536 36.9153  16.8828 ]\n",
      "Saving ./test_output/sub-104/lh.pial.gii as a surface\n",
      "Saving ./test_output/sub-104/rh.pial.gii as a surface\n",
      "Saving ./test_output/sub-104/lh.white.gii as a surface\n",
      "Saving ./test_output/sub-104/rh.white.gii as a surface\n",
      "Target=50783\n",
      "Current vertices=507832, ds_factor=0.09999960616896926\n",
      "Current vertices=82358, ds_factor=0.7707660458000437\n",
      "Final vertices=49742\n",
      "100.0% of the vertices in the decimated surface belong to the original surface.\n"
     ]
    }
   ],
   "source": [
    "postprocess_freesurfer_surfaces('sub-104',                                \n",
    "                                './test_output',\n",
    "                                'multilayer.2.ds.cps.gii',\n",
    "                                n_surfaces=2, \n",
    "                                ds_factor=0.1, \n",
    "                                orientation='cps', \n",
    "                                remove_deep=True)"
   ]
  },
  {
   "cell_type": "code",
   "execution_count": 3,
   "metadata": {},
   "outputs": [
    {
     "data": {
      "text/plain": [
       "(507832, 3)"
      ]
     },
     "execution_count": 3,
     "metadata": {},
     "output_type": "execute_result"
    }
   ],
   "source": [
    "pial_surf = nib.load('./test_output/sub-104/pial.gii')\n",
    "pial_surf.darrays[0].data.shape"
   ]
  },
  {
   "cell_type": "code",
   "execution_count": 4,
   "metadata": {},
   "outputs": [
    {
     "data": {
      "text/plain": [
       "(49742, 3)"
      ]
     },
     "execution_count": 4,
     "metadata": {},
     "output_type": "execute_result"
    }
   ],
   "source": [
    "pial_ds_surf = nib.load('./test_output/sub-104/pial.ds.gii')\n",
    "pial_ds_surf.darrays[0].data.shape"
   ]
  },
  {
   "cell_type": "code",
   "execution_count": 5,
   "metadata": {},
   "outputs": [
    {
     "data": {
      "text/plain": [
       "0.09794971565399581"
      ]
     },
     "execution_count": 5,
     "metadata": {},
     "output_type": "execute_result"
    }
   ],
   "source": [
    "pial_ds_surf.darrays[0].data.shape[0]/pial_surf.darrays[0].data.shape[0]"
   ]
  },
  {
   "cell_type": "code",
   "execution_count": 6,
   "metadata": {},
   "outputs": [
    {
     "data": {
      "text/plain": [
       "(49742, 3)"
      ]
     },
     "execution_count": 6,
     "metadata": {},
     "output_type": "execute_result"
    }
   ],
   "source": [
    "pial_ds_surf = nib.load('./test_output/sub-104/pial.ds.gii')\n",
    "pial_ds_surf.darrays[0].data.shape"
   ]
  },
  {
   "cell_type": "code",
   "execution_count": 7,
   "metadata": {},
   "outputs": [
    {
     "data": {
      "text/plain": [
       "0.09794971565399581"
      ]
     },
     "execution_count": 7,
     "metadata": {},
     "output_type": "execute_result"
    }
   ],
   "source": [
    "pial_ds_surf.darrays[0].data.shape[0]/pial_surf.darrays[0].data.shape[0]"
   ]
  },
  {
   "cell_type": "code",
   "execution_count": 8,
   "metadata": {},
   "outputs": [
    {
     "data": {
      "text/plain": [
       "50783.200000000004"
      ]
     },
     "execution_count": 8,
     "metadata": {},
     "output_type": "execute_result"
    }
   ],
   "source": [
    "507832*.1"
   ]
  },
  {
   "cell_type": "code",
   "execution_count": null,
   "metadata": {},
   "outputs": [],
   "source": []
  }
 ],
 "metadata": {
  "kernelspec": {
   "display_name": "MEGsurfer",
   "language": "python",
   "name": "megsurfer"
  },
  "language_info": {
   "codemirror_mode": {
    "name": "ipython",
    "version": 3
   },
   "file_extension": ".py",
   "mimetype": "text/x-python",
   "name": "python",
   "nbconvert_exporter": "python",
   "pygments_lexer": "ipython3",
   "version": "3.8.18"
  }
 },
 "nbformat": 4,
 "nbformat_minor": 4
}
