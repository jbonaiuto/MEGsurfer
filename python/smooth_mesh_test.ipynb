{
 "cells": [
  {
   "cell_type": "code",
   "execution_count": 1,
   "metadata": {},
   "outputs": [],
   "source": [
    "import os\n",
    "import numpy as np\n",
    "import matlab.engine\n",
    "import scipy.sparse as sparse\n",
    "import nibabel as nib\n",
    "from joblib import Parallel, delayed\n",
    "import scipy.io as sio\n",
    "import scipy.sparse as sp\n",
    "import scipy.sparse.csgraph as csgraph\n",
    "from scipy.sparse import csr_matrix, coo_matrix\n",
    "from gdist import compute_gdist\n",
    "import time"
   ]
  },
  {
   "cell_type": "code",
   "execution_count": 8,
   "metadata": {},
   "outputs": [],
   "source": [
    "def compute_mesh_area(gifti_surf, PF=False):\n",
    "    \"\"\"\n",
    "    Compute the surface area of a triangle mesh.\n",
    "\n",
    "    Parameters:\n",
    "    M (dict or np.ndarray): A dictionary with 'vertices' (mx3) and 'faces' (nx3) as keys \n",
    "                            or a 3xm array of edge distances.\n",
    "    PF (bool): If True, return the surface area per face. Default is False.\n",
    "\n",
    "    Returns:\n",
    "    float or np.ndarray: Total surface area or an array of areas per face.\n",
    "    \"\"\"\n",
    "    # Extract vertices and faces\n",
    "    vertices, faces = gifti_surf.darrays[0].data, gifti_surf.darrays[1].data\n",
    "\n",
    "    # Compute edge lengths of each triangle\n",
    "    A = np.linalg.norm(vertices[faces[:, 1], :] - vertices[faces[:, 0], :], axis=1)\n",
    "    B = np.linalg.norm(vertices[faces[:, 2], :] - vertices[faces[:, 1], :], axis=1)\n",
    "    C = np.linalg.norm(vertices[faces[:, 2], :] - vertices[faces[:, 0], :], axis=1)\n",
    "\n",
    "    # Heron's formula for area\n",
    "    s = (A + B + C) / 2\n",
    "    area = np.sqrt(s * (s - A) * (s - B) * (s - C))\n",
    "\n",
    "    return np.sum(area) if not PF else area\n",
    "\n",
    "\n",
    "def compute_mesh_adjacency(gifti_surf):\n",
    "    \"\"\"\n",
    "    Compute the adjacency matrix of a triangle mesh.\n",
    "\n",
    "    Parameters:\n",
    "    gifti_surf (nibabel.gifti.GiftiImage): GiftiImage object containing the mesh data.\n",
    "\n",
    "    Returns:\n",
    "    scipy.sparse matrix: Adjacency matrix as a sparse [vxv] array.\n",
    "    \"\"\"\n",
    "    faces = gifti_surf.darrays[1].data\n",
    "    N = faces.max() + 1\n",
    "    rows = np.hstack((faces[:, 0], faces[:, 0], faces[:, 1], faces[:, 1], faces[:, 2], faces[:, 2]))\n",
    "    cols = np.hstack((faces[:, 1], faces[:, 2], faces[:, 0], faces[:, 2], faces[:, 0], faces[:, 1]))\n",
    "    data = np.ones(len(rows), dtype=int)\n",
    "    A = sp.coo_matrix((data, (rows, cols)), shape=(N, N))\n",
    "\n",
    "    return A.astype(bool)\n",
    "\n",
    "\n",
    "def compute_mesh_distances(vertices, faces, order=1):\n",
    "    \"\"\"\n",
    "    Compute the distance matrix of a triangle mesh from a nibabel gifti object.\n",
    "\n",
    "    Parameters:\n",
    "    gifti_surf (nibabel.gifti.GiftiImage): GiftiImage object containing the mesh data.\n",
    "    order (int): 0 for adjacency matrix, 1 for first-order, 2 for second-order distance matrix.\n",
    "\n",
    "    Returns:\n",
    "    scipy.sparse.csr_matrix: Distance matrix.\n",
    "    \"\"\"\n",
    "    if order > 2:\n",
    "        raise ValueError(\"High order distance matrix not handled.\")\n",
    "\n",
    "    # Adjacency matrix\n",
    "    if order == 0:\n",
    "        return compute_mesh_adjacency(gifti_surf)\n",
    "\n",
    "    # Calculate distances for each edge in each triangle\n",
    "    # Adjusting the calculation to match MATLAB behavior\n",
    "    d0 = vertices[faces[:, 0], :] - vertices[faces[:, 1], :]\n",
    "    d1 = vertices[faces[:, 1], :] - vertices[faces[:, 2], :]\n",
    "    d2 = vertices[faces[:, 2], :] - vertices[faces[:, 0], :]\n",
    "    distances = np.sqrt(np.sum(np.vstack([d0, d1, d2]) ** 2, axis=1))\n",
    "\n",
    "    # Construct row and column indices\n",
    "    row_ind = np.hstack([faces[:, 0], faces[:, 1], faces[:, 2]])\n",
    "    col_ind = np.hstack([faces[:, 1], faces[:, 2], faces[:, 0]])\n",
    "\n",
    "    D = csr_matrix((distances, (row_ind, col_ind)), shape=(vertices.shape[0], vertices.shape[0]))\n",
    "    D = (D + D.T) / 2\n",
    "\n",
    "    if order == 1:\n",
    "        return D\n",
    "\n",
    "    # Second order distance matrix\n",
    "    D2 = D.copy()\n",
    "    for i in range(vertices.shape[0]):\n",
    "        a = D2[i, :].nonzero()[1]\n",
    "        for b in a:\n",
    "            c = D2[b, :].nonzero()[1]\n",
    "            D[i, c] = np.minimum(D[i, c], D2[i, b] + D2[b, c])\n",
    "\n",
    "    return D\n",
    "\n",
    "\n",
    "\n",
    "\n",
    "def compute_geodesic_distances(vertices, faces, source_indices, max_dist=np.inf):\n",
    "    \"\"\"\n",
    "    Compute geodesic distances on a mesh.\n",
    "\n",
    "    Parameters:\n",
    "    vertices (numpy.ndarray): Array of mesh vertices.\n",
    "    faces (numpy.ndarray): Array of mesh faces.\n",
    "    source_indices (numpy.ndarray): Indices of source vertices.\n",
    "    max_dist (float): Maximum distance for geodesic computation.\n",
    "\n",
    "    Returns:\n",
    "    numpy.ndarray: Geodesic distances from source vertices.\n",
    "    \"\"\"\n",
    "    D = compute_mesh_distances(vertices, faces)\n",
    "    \n",
    "    dist = np.full(vertices.shape[0], np.inf)\n",
    "    for src in source_indices:\n",
    "        dist[src] = 0.0\n",
    "\n",
    "    remaining = np.arange(vertices.shape[0])\n",
    "    while remaining.size > 0:\n",
    "        u = remaining[np.argmin(dist[remaining])]\n",
    "        if dist[u] > max_dist:\n",
    "            break\n",
    "        remaining = remaining[remaining != u]\n",
    "        for v in D.indices[D.indptr[u]:D.indptr[u+1]]:\n",
    "            alt = dist[u] + D.data[D.indptr[u]:D.indptr[u+1]][D.indices[D.indptr[u]:D.indptr[u+1]] == v]\n",
    "            if alt < dist[v]:\n",
    "                dist[v] = alt\n",
    "\n",
    "    return dist\n",
    "\n",
    "\n",
    "def compute_smoothed_matrices(meshname, fwhm, n_layers, redo=False):\n",
    "    gifti_surf = nib.load(meshname)\n",
    "    vertices = gifti_surf.darrays[0].data\n",
    "    faces = gifti_surf.darrays[1].data\n",
    "    Ns = vertices.shape[0]\n",
    "    Ns_per_layer = Ns // n_layers\n",
    "    vertspace = np.mean(np.sqrt(compute_mesh_area(gifti_surf, PF=True)))\n",
    "    \n",
    "    smoothmeshname = os.path.join(os.path.dirname(meshname), f'FWHM{fwhm:3.2f}_{os.path.basename(meshname)}.mat')\n",
    "    if os.path.exists(smoothmeshname) and not redo:\n",
    "        return smoothmeshname\n",
    "\n",
    "    if fwhm > vertspace * 100 or fwhm < vertspace / 100:\n",
    "        raise ValueError('Mismatch between FWHM and mesh units')\n",
    "        \n",
    "    sigma2 = (fwhm / 2.355) ** 2\n",
    "\n",
    "    # Initialize lists to store COO matrix components\n",
    "    rows_list, cols_list, data_list = [], [], []\n",
    "\n",
    "    def process_layer(l):\n",
    "        for j in range(Ns_per_layer):\n",
    "            source_indices = np.array([l * Ns_per_layer + j])            \n",
    "            dist = compute_geodesic_distances(vertices, faces, source_indices, max_dist=fwhm)\n",
    "            mask = dist <= fwhm\n",
    "            q = np.exp(-(dist[mask] ** 2) / (2 * sigma2))\n",
    "            q /= np.sum(q)\n",
    "            \n",
    "            # Store row, column, and data information for COO matrix\n",
    "            rows_list.extend(np.full(sum(mask), l * Ns_per_layer + j))\n",
    "            cols_list.extend(np.where(mask)[0])\n",
    "            data_list.extend(q)\n",
    "\n",
    "    Parallel(n_jobs=-1)(delayed(process_layer)(l) for l in range(n_layers))\n",
    "\n",
    "    # Create QG as a COO matrix and then convert it to CSR format\n",
    "    QG = coo_matrix((data_list, (rows_list, cols_list)), shape=(Ns, Ns)).tocsr()\n",
    "\n",
    "    sio.savemat(smoothmeshname, {'QG': QG, 'M': gifti_surf}, do_compression=True)\n",
    "\n",
    "    return smoothmeshname, QG"
   ]
  },
  {
   "cell_type": "code",
   "execution_count": 9,
   "metadata": {},
   "outputs": [
    {
     "ename": "TypeError",
     "evalue": "Could not convert None (type <class 'NoneType'>) to array",
     "output_type": "error",
     "traceback": [
      "\u001b[0;31m---------------------------------------------------------------------------\u001b[0m",
      "\u001b[0;31mTypeError\u001b[0m                                 Traceback (most recent call last)",
      "\u001b[0;32m<ipython-input-9-37d9f326194d>\u001b[0m in \u001b[0;36m<module>\u001b[0;34m\u001b[0m\n\u001b[1;32m      1\u001b[0m \u001b[0mt0\u001b[0m \u001b[0;34m=\u001b[0m \u001b[0mtime\u001b[0m\u001b[0;34m.\u001b[0m\u001b[0mtime\u001b[0m\u001b[0;34m(\u001b[0m\u001b[0;34m)\u001b[0m\u001b[0;34m\u001b[0m\u001b[0;34m\u001b[0m\u001b[0m\n\u001b[0;32m----> 2\u001b[0;31m \u001b[0msmoothmeshname\u001b[0m\u001b[0;34m,\u001b[0m \u001b[0mQG2\u001b[0m \u001b[0;34m=\u001b[0m \u001b[0mcompute_smoothed_matrices\u001b[0m\u001b[0;34m(\u001b[0m\u001b[0;34m'/home/bonaiuto/Dropbox/Projects/software/MEGsurfer/python/test_output/sub-104/multilayer.2.ds.link_vector.gii'\u001b[0m\u001b[0;34m,\u001b[0m \u001b[0;36m5.0\u001b[0m\u001b[0;34m,\u001b[0m \u001b[0;36m2\u001b[0m\u001b[0;34m)\u001b[0m\u001b[0;34m\u001b[0m\u001b[0;34m\u001b[0m\u001b[0m\n\u001b[0m\u001b[1;32m      3\u001b[0m \u001b[0mt1\u001b[0m \u001b[0;34m=\u001b[0m \u001b[0mtime\u001b[0m\u001b[0;34m.\u001b[0m\u001b[0mtime\u001b[0m\u001b[0;34m(\u001b[0m\u001b[0;34m)\u001b[0m\u001b[0;34m\u001b[0m\u001b[0;34m\u001b[0m\u001b[0m\n\u001b[1;32m      4\u001b[0m \u001b[0mtotal\u001b[0m \u001b[0;34m=\u001b[0m \u001b[0mt1\u001b[0m\u001b[0;34m-\u001b[0m\u001b[0mt0\u001b[0m\u001b[0;34m\u001b[0m\u001b[0;34m\u001b[0m\u001b[0m\n\u001b[1;32m      5\u001b[0m \u001b[0mprint\u001b[0m\u001b[0;34m(\u001b[0m\u001b[0;34mf'{total} seconds'\u001b[0m\u001b[0;34m)\u001b[0m\u001b[0;34m\u001b[0m\u001b[0;34m\u001b[0m\u001b[0m\n",
      "\u001b[0;32m<ipython-input-8-1578eaf6d8db>\u001b[0m in \u001b[0;36mcompute_smoothed_matrices\u001b[0;34m(meshname, fwhm, n_layers, redo)\u001b[0m\n\u001b[1;32m    165\u001b[0m     \u001b[0mQG\u001b[0m \u001b[0;34m=\u001b[0m \u001b[0mcoo_matrix\u001b[0m\u001b[0;34m(\u001b[0m\u001b[0;34m(\u001b[0m\u001b[0mdata_list\u001b[0m\u001b[0;34m,\u001b[0m \u001b[0;34m(\u001b[0m\u001b[0mrows_list\u001b[0m\u001b[0;34m,\u001b[0m \u001b[0mcols_list\u001b[0m\u001b[0;34m)\u001b[0m\u001b[0;34m)\u001b[0m\u001b[0;34m,\u001b[0m \u001b[0mshape\u001b[0m\u001b[0;34m=\u001b[0m\u001b[0;34m(\u001b[0m\u001b[0mNs\u001b[0m\u001b[0;34m,\u001b[0m \u001b[0mNs\u001b[0m\u001b[0;34m)\u001b[0m\u001b[0;34m)\u001b[0m\u001b[0;34m.\u001b[0m\u001b[0mtocsr\u001b[0m\u001b[0;34m(\u001b[0m\u001b[0;34m)\u001b[0m\u001b[0;34m\u001b[0m\u001b[0;34m\u001b[0m\u001b[0m\n\u001b[1;32m    166\u001b[0m \u001b[0;34m\u001b[0m\u001b[0m\n\u001b[0;32m--> 167\u001b[0;31m     \u001b[0msio\u001b[0m\u001b[0;34m.\u001b[0m\u001b[0msavemat\u001b[0m\u001b[0;34m(\u001b[0m\u001b[0msmoothmeshname\u001b[0m\u001b[0;34m,\u001b[0m \u001b[0;34m{\u001b[0m\u001b[0;34m'QG'\u001b[0m\u001b[0;34m:\u001b[0m \u001b[0mQG\u001b[0m\u001b[0;34m,\u001b[0m \u001b[0;34m'M'\u001b[0m\u001b[0;34m:\u001b[0m \u001b[0mgifti_surf\u001b[0m\u001b[0;34m}\u001b[0m\u001b[0;34m,\u001b[0m \u001b[0mdo_compression\u001b[0m\u001b[0;34m=\u001b[0m\u001b[0;32mTrue\u001b[0m\u001b[0;34m)\u001b[0m\u001b[0;34m\u001b[0m\u001b[0;34m\u001b[0m\u001b[0m\n\u001b[0m\u001b[1;32m    168\u001b[0m \u001b[0;34m\u001b[0m\u001b[0m\n\u001b[1;32m    169\u001b[0m     \u001b[0;32mreturn\u001b[0m \u001b[0msmoothmeshname\u001b[0m\u001b[0;34m,\u001b[0m \u001b[0mQG\u001b[0m\u001b[0;34m\u001b[0m\u001b[0;34m\u001b[0m\u001b[0m\n",
      "\u001b[0;32m~/miniconda3/envs/megsurfer_matlab/lib/python3.6/site-packages/scipy/io/matlab/mio.py\u001b[0m in \u001b[0;36msavemat\u001b[0;34m(file_name, mdict, appendmat, format, long_field_names, do_compression, oned_as)\u001b[0m\n\u001b[1;32m    294\u001b[0m         \u001b[0;32melse\u001b[0m\u001b[0;34m:\u001b[0m\u001b[0;34m\u001b[0m\u001b[0;34m\u001b[0m\u001b[0m\n\u001b[1;32m    295\u001b[0m             \u001b[0;32mraise\u001b[0m \u001b[0mValueError\u001b[0m\u001b[0;34m(\u001b[0m\u001b[0;34m\"Format should be '4' or '5'\"\u001b[0m\u001b[0;34m)\u001b[0m\u001b[0;34m\u001b[0m\u001b[0;34m\u001b[0m\u001b[0m\n\u001b[0;32m--> 296\u001b[0;31m         \u001b[0mMW\u001b[0m\u001b[0;34m.\u001b[0m\u001b[0mput_variables\u001b[0m\u001b[0;34m(\u001b[0m\u001b[0mmdict\u001b[0m\u001b[0;34m)\u001b[0m\u001b[0;34m\u001b[0m\u001b[0;34m\u001b[0m\u001b[0m\n\u001b[0m\u001b[1;32m    297\u001b[0m \u001b[0;34m\u001b[0m\u001b[0m\n\u001b[1;32m    298\u001b[0m \u001b[0;34m\u001b[0m\u001b[0m\n",
      "\u001b[0;32m~/miniconda3/envs/megsurfer_matlab/lib/python3.6/site-packages/scipy/io/matlab/mio5.py\u001b[0m in \u001b[0;36mput_variables\u001b[0;34m(self, mdict, write_header)\u001b[0m\n\u001b[1;32m    883\u001b[0m                 \u001b[0mstream\u001b[0m \u001b[0;34m=\u001b[0m \u001b[0mBytesIO\u001b[0m\u001b[0;34m(\u001b[0m\u001b[0;34m)\u001b[0m\u001b[0;34m\u001b[0m\u001b[0;34m\u001b[0m\u001b[0m\n\u001b[1;32m    884\u001b[0m                 \u001b[0mself\u001b[0m\u001b[0;34m.\u001b[0m\u001b[0m_matrix_writer\u001b[0m\u001b[0;34m.\u001b[0m\u001b[0mfile_stream\u001b[0m \u001b[0;34m=\u001b[0m \u001b[0mstream\u001b[0m\u001b[0;34m\u001b[0m\u001b[0;34m\u001b[0m\u001b[0m\n\u001b[0;32m--> 885\u001b[0;31m                 \u001b[0mself\u001b[0m\u001b[0;34m.\u001b[0m\u001b[0m_matrix_writer\u001b[0m\u001b[0;34m.\u001b[0m\u001b[0mwrite_top\u001b[0m\u001b[0;34m(\u001b[0m\u001b[0mvar\u001b[0m\u001b[0;34m,\u001b[0m \u001b[0masbytes\u001b[0m\u001b[0;34m(\u001b[0m\u001b[0mname\u001b[0m\u001b[0;34m)\u001b[0m\u001b[0;34m,\u001b[0m \u001b[0mis_global\u001b[0m\u001b[0;34m)\u001b[0m\u001b[0;34m\u001b[0m\u001b[0;34m\u001b[0m\u001b[0m\n\u001b[0m\u001b[1;32m    886\u001b[0m                 \u001b[0mout_str\u001b[0m \u001b[0;34m=\u001b[0m \u001b[0mzlib\u001b[0m\u001b[0;34m.\u001b[0m\u001b[0mcompress\u001b[0m\u001b[0;34m(\u001b[0m\u001b[0mstream\u001b[0m\u001b[0;34m.\u001b[0m\u001b[0mgetvalue\u001b[0m\u001b[0;34m(\u001b[0m\u001b[0;34m)\u001b[0m\u001b[0;34m)\u001b[0m\u001b[0;34m\u001b[0m\u001b[0;34m\u001b[0m\u001b[0m\n\u001b[1;32m    887\u001b[0m                 \u001b[0mtag\u001b[0m \u001b[0;34m=\u001b[0m \u001b[0mnp\u001b[0m\u001b[0;34m.\u001b[0m\u001b[0mempty\u001b[0m\u001b[0;34m(\u001b[0m\u001b[0;34m(\u001b[0m\u001b[0;34m)\u001b[0m\u001b[0;34m,\u001b[0m \u001b[0mNDT_TAG_FULL\u001b[0m\u001b[0;34m)\u001b[0m\u001b[0;34m\u001b[0m\u001b[0;34m\u001b[0m\u001b[0m\n",
      "\u001b[0;32m~/miniconda3/envs/megsurfer_matlab/lib/python3.6/site-packages/scipy/io/matlab/mio5.py\u001b[0m in \u001b[0;36mwrite_top\u001b[0;34m(self, arr, name, is_global)\u001b[0m\n\u001b[1;32m    632\u001b[0m         \u001b[0mself\u001b[0m\u001b[0;34m.\u001b[0m\u001b[0m_var_name\u001b[0m \u001b[0;34m=\u001b[0m \u001b[0mname\u001b[0m\u001b[0;34m\u001b[0m\u001b[0;34m\u001b[0m\u001b[0m\n\u001b[1;32m    633\u001b[0m         \u001b[0;31m# write the header and data\u001b[0m\u001b[0;34m\u001b[0m\u001b[0;34m\u001b[0m\u001b[0;34m\u001b[0m\u001b[0m\n\u001b[0;32m--> 634\u001b[0;31m         \u001b[0mself\u001b[0m\u001b[0;34m.\u001b[0m\u001b[0mwrite\u001b[0m\u001b[0;34m(\u001b[0m\u001b[0marr\u001b[0m\u001b[0;34m)\u001b[0m\u001b[0;34m\u001b[0m\u001b[0;34m\u001b[0m\u001b[0m\n\u001b[0m\u001b[1;32m    635\u001b[0m \u001b[0;34m\u001b[0m\u001b[0m\n\u001b[1;32m    636\u001b[0m     \u001b[0;32mdef\u001b[0m \u001b[0mwrite\u001b[0m\u001b[0;34m(\u001b[0m\u001b[0mself\u001b[0m\u001b[0;34m,\u001b[0m \u001b[0marr\u001b[0m\u001b[0;34m)\u001b[0m\u001b[0;34m:\u001b[0m\u001b[0;34m\u001b[0m\u001b[0;34m\u001b[0m\u001b[0m\n",
      "\u001b[0;32m~/miniconda3/envs/megsurfer_matlab/lib/python3.6/site-packages/scipy/io/matlab/mio5.py\u001b[0m in \u001b[0;36mwrite\u001b[0;34m(self, arr)\u001b[0m\n\u001b[1;32m    661\u001b[0m             \u001b[0mself\u001b[0m\u001b[0;34m.\u001b[0m\u001b[0mwrite_empty_struct\u001b[0m\u001b[0;34m(\u001b[0m\u001b[0;34m)\u001b[0m\u001b[0;34m\u001b[0m\u001b[0;34m\u001b[0m\u001b[0m\n\u001b[1;32m    662\u001b[0m         \u001b[0;32melif\u001b[0m \u001b[0mnarr\u001b[0m\u001b[0;34m.\u001b[0m\u001b[0mdtype\u001b[0m\u001b[0;34m.\u001b[0m\u001b[0mfields\u001b[0m\u001b[0;34m:\u001b[0m  \u001b[0;31m# struct array\u001b[0m\u001b[0;34m\u001b[0m\u001b[0;34m\u001b[0m\u001b[0m\n\u001b[0;32m--> 663\u001b[0;31m             \u001b[0mself\u001b[0m\u001b[0;34m.\u001b[0m\u001b[0mwrite_struct\u001b[0m\u001b[0;34m(\u001b[0m\u001b[0mnarr\u001b[0m\u001b[0;34m)\u001b[0m\u001b[0;34m\u001b[0m\u001b[0;34m\u001b[0m\u001b[0m\n\u001b[0m\u001b[1;32m    664\u001b[0m         \u001b[0;32melif\u001b[0m \u001b[0mnarr\u001b[0m\u001b[0;34m.\u001b[0m\u001b[0mdtype\u001b[0m\u001b[0;34m.\u001b[0m\u001b[0mhasobject\u001b[0m\u001b[0;34m:\u001b[0m  \u001b[0;31m# cell array\u001b[0m\u001b[0;34m\u001b[0m\u001b[0;34m\u001b[0m\u001b[0m\n\u001b[1;32m    665\u001b[0m             \u001b[0mself\u001b[0m\u001b[0;34m.\u001b[0m\u001b[0mwrite_cells\u001b[0m\u001b[0;34m(\u001b[0m\u001b[0mnarr\u001b[0m\u001b[0;34m)\u001b[0m\u001b[0;34m\u001b[0m\u001b[0;34m\u001b[0m\u001b[0m\n",
      "\u001b[0;32m~/miniconda3/envs/megsurfer_matlab/lib/python3.6/site-packages/scipy/io/matlab/mio5.py\u001b[0m in \u001b[0;36mwrite_struct\u001b[0;34m(self, arr)\u001b[0m\n\u001b[1;32m    780\u001b[0m         self.write_header(matdims(arr, self.oned_as),\n\u001b[1;32m    781\u001b[0m                           mxSTRUCT_CLASS)\n\u001b[0;32m--> 782\u001b[0;31m         \u001b[0mself\u001b[0m\u001b[0;34m.\u001b[0m\u001b[0m_write_items\u001b[0m\u001b[0;34m(\u001b[0m\u001b[0marr\u001b[0m\u001b[0;34m)\u001b[0m\u001b[0;34m\u001b[0m\u001b[0;34m\u001b[0m\u001b[0m\n\u001b[0m\u001b[1;32m    783\u001b[0m \u001b[0;34m\u001b[0m\u001b[0m\n\u001b[1;32m    784\u001b[0m     \u001b[0;32mdef\u001b[0m \u001b[0m_write_items\u001b[0m\u001b[0;34m(\u001b[0m\u001b[0mself\u001b[0m\u001b[0;34m,\u001b[0m \u001b[0marr\u001b[0m\u001b[0;34m)\u001b[0m\u001b[0;34m:\u001b[0m\u001b[0;34m\u001b[0m\u001b[0;34m\u001b[0m\u001b[0m\n",
      "\u001b[0;32m~/miniconda3/envs/megsurfer_matlab/lib/python3.6/site-packages/scipy/io/matlab/mio5.py\u001b[0m in \u001b[0;36m_write_items\u001b[0;34m(self, arr)\u001b[0m\n\u001b[1;32m    797\u001b[0m         \u001b[0;32mfor\u001b[0m \u001b[0mel\u001b[0m \u001b[0;32min\u001b[0m \u001b[0mA\u001b[0m\u001b[0;34m:\u001b[0m\u001b[0;34m\u001b[0m\u001b[0;34m\u001b[0m\u001b[0m\n\u001b[1;32m    798\u001b[0m             \u001b[0;32mfor\u001b[0m \u001b[0mf\u001b[0m \u001b[0;32min\u001b[0m \u001b[0mfieldnames\u001b[0m\u001b[0;34m:\u001b[0m\u001b[0;34m\u001b[0m\u001b[0;34m\u001b[0m\u001b[0m\n\u001b[0;32m--> 799\u001b[0;31m                 \u001b[0mself\u001b[0m\u001b[0;34m.\u001b[0m\u001b[0mwrite\u001b[0m\u001b[0;34m(\u001b[0m\u001b[0mel\u001b[0m\u001b[0;34m[\u001b[0m\u001b[0mf\u001b[0m\u001b[0;34m]\u001b[0m\u001b[0;34m)\u001b[0m\u001b[0;34m\u001b[0m\u001b[0;34m\u001b[0m\u001b[0m\n\u001b[0m\u001b[1;32m    800\u001b[0m \u001b[0;34m\u001b[0m\u001b[0m\n\u001b[1;32m    801\u001b[0m     \u001b[0;32mdef\u001b[0m \u001b[0mwrite_object\u001b[0m\u001b[0;34m(\u001b[0m\u001b[0mself\u001b[0m\u001b[0;34m,\u001b[0m \u001b[0marr\u001b[0m\u001b[0;34m)\u001b[0m\u001b[0;34m:\u001b[0m\u001b[0;34m\u001b[0m\u001b[0;34m\u001b[0m\u001b[0m\n",
      "\u001b[0;32m~/miniconda3/envs/megsurfer_matlab/lib/python3.6/site-packages/scipy/io/matlab/mio5.py\u001b[0m in \u001b[0;36mwrite\u001b[0;34m(self, arr)\u001b[0m\n\u001b[1;32m    661\u001b[0m             \u001b[0mself\u001b[0m\u001b[0;34m.\u001b[0m\u001b[0mwrite_empty_struct\u001b[0m\u001b[0;34m(\u001b[0m\u001b[0;34m)\u001b[0m\u001b[0;34m\u001b[0m\u001b[0;34m\u001b[0m\u001b[0m\n\u001b[1;32m    662\u001b[0m         \u001b[0;32melif\u001b[0m \u001b[0mnarr\u001b[0m\u001b[0;34m.\u001b[0m\u001b[0mdtype\u001b[0m\u001b[0;34m.\u001b[0m\u001b[0mfields\u001b[0m\u001b[0;34m:\u001b[0m  \u001b[0;31m# struct array\u001b[0m\u001b[0;34m\u001b[0m\u001b[0;34m\u001b[0m\u001b[0m\n\u001b[0;32m--> 663\u001b[0;31m             \u001b[0mself\u001b[0m\u001b[0;34m.\u001b[0m\u001b[0mwrite_struct\u001b[0m\u001b[0;34m(\u001b[0m\u001b[0mnarr\u001b[0m\u001b[0;34m)\u001b[0m\u001b[0;34m\u001b[0m\u001b[0;34m\u001b[0m\u001b[0m\n\u001b[0m\u001b[1;32m    664\u001b[0m         \u001b[0;32melif\u001b[0m \u001b[0mnarr\u001b[0m\u001b[0;34m.\u001b[0m\u001b[0mdtype\u001b[0m\u001b[0;34m.\u001b[0m\u001b[0mhasobject\u001b[0m\u001b[0;34m:\u001b[0m  \u001b[0;31m# cell array\u001b[0m\u001b[0;34m\u001b[0m\u001b[0;34m\u001b[0m\u001b[0m\n\u001b[1;32m    665\u001b[0m             \u001b[0mself\u001b[0m\u001b[0;34m.\u001b[0m\u001b[0mwrite_cells\u001b[0m\u001b[0;34m(\u001b[0m\u001b[0mnarr\u001b[0m\u001b[0;34m)\u001b[0m\u001b[0;34m\u001b[0m\u001b[0;34m\u001b[0m\u001b[0m\n",
      "\u001b[0;32m~/miniconda3/envs/megsurfer_matlab/lib/python3.6/site-packages/scipy/io/matlab/mio5.py\u001b[0m in \u001b[0;36mwrite_struct\u001b[0;34m(self, arr)\u001b[0m\n\u001b[1;32m    780\u001b[0m         self.write_header(matdims(arr, self.oned_as),\n\u001b[1;32m    781\u001b[0m                           mxSTRUCT_CLASS)\n\u001b[0;32m--> 782\u001b[0;31m         \u001b[0mself\u001b[0m\u001b[0;34m.\u001b[0m\u001b[0m_write_items\u001b[0m\u001b[0;34m(\u001b[0m\u001b[0marr\u001b[0m\u001b[0;34m)\u001b[0m\u001b[0;34m\u001b[0m\u001b[0;34m\u001b[0m\u001b[0m\n\u001b[0m\u001b[1;32m    783\u001b[0m \u001b[0;34m\u001b[0m\u001b[0m\n\u001b[1;32m    784\u001b[0m     \u001b[0;32mdef\u001b[0m \u001b[0m_write_items\u001b[0m\u001b[0;34m(\u001b[0m\u001b[0mself\u001b[0m\u001b[0;34m,\u001b[0m \u001b[0marr\u001b[0m\u001b[0;34m)\u001b[0m\u001b[0;34m:\u001b[0m\u001b[0;34m\u001b[0m\u001b[0;34m\u001b[0m\u001b[0m\n",
      "\u001b[0;32m~/miniconda3/envs/megsurfer_matlab/lib/python3.6/site-packages/scipy/io/matlab/mio5.py\u001b[0m in \u001b[0;36m_write_items\u001b[0;34m(self, arr)\u001b[0m\n\u001b[1;32m    797\u001b[0m         \u001b[0;32mfor\u001b[0m \u001b[0mel\u001b[0m \u001b[0;32min\u001b[0m \u001b[0mA\u001b[0m\u001b[0;34m:\u001b[0m\u001b[0;34m\u001b[0m\u001b[0;34m\u001b[0m\u001b[0m\n\u001b[1;32m    798\u001b[0m             \u001b[0;32mfor\u001b[0m \u001b[0mf\u001b[0m \u001b[0;32min\u001b[0m \u001b[0mfieldnames\u001b[0m\u001b[0;34m:\u001b[0m\u001b[0;34m\u001b[0m\u001b[0;34m\u001b[0m\u001b[0m\n\u001b[0;32m--> 799\u001b[0;31m                 \u001b[0mself\u001b[0m\u001b[0;34m.\u001b[0m\u001b[0mwrite\u001b[0m\u001b[0;34m(\u001b[0m\u001b[0mel\u001b[0m\u001b[0;34m[\u001b[0m\u001b[0mf\u001b[0m\u001b[0;34m]\u001b[0m\u001b[0;34m)\u001b[0m\u001b[0;34m\u001b[0m\u001b[0;34m\u001b[0m\u001b[0m\n\u001b[0m\u001b[1;32m    800\u001b[0m \u001b[0;34m\u001b[0m\u001b[0m\n\u001b[1;32m    801\u001b[0m     \u001b[0;32mdef\u001b[0m \u001b[0mwrite_object\u001b[0m\u001b[0;34m(\u001b[0m\u001b[0mself\u001b[0m\u001b[0;34m,\u001b[0m \u001b[0marr\u001b[0m\u001b[0;34m)\u001b[0m\u001b[0;34m:\u001b[0m\u001b[0;34m\u001b[0m\u001b[0;34m\u001b[0m\u001b[0m\n",
      "\u001b[0;32m~/miniconda3/envs/megsurfer_matlab/lib/python3.6/site-packages/scipy/io/matlab/mio5.py\u001b[0m in \u001b[0;36mwrite\u001b[0;34m(self, arr)\u001b[0m\n\u001b[1;32m    661\u001b[0m             \u001b[0mself\u001b[0m\u001b[0;34m.\u001b[0m\u001b[0mwrite_empty_struct\u001b[0m\u001b[0;34m(\u001b[0m\u001b[0;34m)\u001b[0m\u001b[0;34m\u001b[0m\u001b[0;34m\u001b[0m\u001b[0m\n\u001b[1;32m    662\u001b[0m         \u001b[0;32melif\u001b[0m \u001b[0mnarr\u001b[0m\u001b[0;34m.\u001b[0m\u001b[0mdtype\u001b[0m\u001b[0;34m.\u001b[0m\u001b[0mfields\u001b[0m\u001b[0;34m:\u001b[0m  \u001b[0;31m# struct array\u001b[0m\u001b[0;34m\u001b[0m\u001b[0;34m\u001b[0m\u001b[0m\n\u001b[0;32m--> 663\u001b[0;31m             \u001b[0mself\u001b[0m\u001b[0;34m.\u001b[0m\u001b[0mwrite_struct\u001b[0m\u001b[0;34m(\u001b[0m\u001b[0mnarr\u001b[0m\u001b[0;34m)\u001b[0m\u001b[0;34m\u001b[0m\u001b[0;34m\u001b[0m\u001b[0m\n\u001b[0m\u001b[1;32m    664\u001b[0m         \u001b[0;32melif\u001b[0m \u001b[0mnarr\u001b[0m\u001b[0;34m.\u001b[0m\u001b[0mdtype\u001b[0m\u001b[0;34m.\u001b[0m\u001b[0mhasobject\u001b[0m\u001b[0;34m:\u001b[0m  \u001b[0;31m# cell array\u001b[0m\u001b[0;34m\u001b[0m\u001b[0;34m\u001b[0m\u001b[0m\n\u001b[1;32m    665\u001b[0m             \u001b[0mself\u001b[0m\u001b[0;34m.\u001b[0m\u001b[0mwrite_cells\u001b[0m\u001b[0;34m(\u001b[0m\u001b[0mnarr\u001b[0m\u001b[0;34m)\u001b[0m\u001b[0;34m\u001b[0m\u001b[0;34m\u001b[0m\u001b[0m\n",
      "\u001b[0;32m~/miniconda3/envs/megsurfer_matlab/lib/python3.6/site-packages/scipy/io/matlab/mio5.py\u001b[0m in \u001b[0;36mwrite_struct\u001b[0;34m(self, arr)\u001b[0m\n\u001b[1;32m    780\u001b[0m         self.write_header(matdims(arr, self.oned_as),\n\u001b[1;32m    781\u001b[0m                           mxSTRUCT_CLASS)\n\u001b[0;32m--> 782\u001b[0;31m         \u001b[0mself\u001b[0m\u001b[0;34m.\u001b[0m\u001b[0m_write_items\u001b[0m\u001b[0;34m(\u001b[0m\u001b[0marr\u001b[0m\u001b[0;34m)\u001b[0m\u001b[0;34m\u001b[0m\u001b[0;34m\u001b[0m\u001b[0m\n\u001b[0m\u001b[1;32m    783\u001b[0m \u001b[0;34m\u001b[0m\u001b[0m\n\u001b[1;32m    784\u001b[0m     \u001b[0;32mdef\u001b[0m \u001b[0m_write_items\u001b[0m\u001b[0;34m(\u001b[0m\u001b[0mself\u001b[0m\u001b[0;34m,\u001b[0m \u001b[0marr\u001b[0m\u001b[0;34m)\u001b[0m\u001b[0;34m:\u001b[0m\u001b[0;34m\u001b[0m\u001b[0;34m\u001b[0m\u001b[0m\n",
      "\u001b[0;32m~/miniconda3/envs/megsurfer_matlab/lib/python3.6/site-packages/scipy/io/matlab/mio5.py\u001b[0m in \u001b[0;36m_write_items\u001b[0;34m(self, arr)\u001b[0m\n\u001b[1;32m    797\u001b[0m         \u001b[0;32mfor\u001b[0m \u001b[0mel\u001b[0m \u001b[0;32min\u001b[0m \u001b[0mA\u001b[0m\u001b[0;34m:\u001b[0m\u001b[0;34m\u001b[0m\u001b[0;34m\u001b[0m\u001b[0m\n\u001b[1;32m    798\u001b[0m             \u001b[0;32mfor\u001b[0m \u001b[0mf\u001b[0m \u001b[0;32min\u001b[0m \u001b[0mfieldnames\u001b[0m\u001b[0;34m:\u001b[0m\u001b[0;34m\u001b[0m\u001b[0;34m\u001b[0m\u001b[0m\n\u001b[0;32m--> 799\u001b[0;31m                 \u001b[0mself\u001b[0m\u001b[0;34m.\u001b[0m\u001b[0mwrite\u001b[0m\u001b[0;34m(\u001b[0m\u001b[0mel\u001b[0m\u001b[0;34m[\u001b[0m\u001b[0mf\u001b[0m\u001b[0;34m]\u001b[0m\u001b[0;34m)\u001b[0m\u001b[0;34m\u001b[0m\u001b[0;34m\u001b[0m\u001b[0m\n\u001b[0m\u001b[1;32m    800\u001b[0m \u001b[0;34m\u001b[0m\u001b[0m\n\u001b[1;32m    801\u001b[0m     \u001b[0;32mdef\u001b[0m \u001b[0mwrite_object\u001b[0m\u001b[0;34m(\u001b[0m\u001b[0mself\u001b[0m\u001b[0;34m,\u001b[0m \u001b[0marr\u001b[0m\u001b[0;34m)\u001b[0m\u001b[0;34m:\u001b[0m\u001b[0;34m\u001b[0m\u001b[0;34m\u001b[0m\u001b[0m\n",
      "\u001b[0;32m~/miniconda3/envs/megsurfer_matlab/lib/python3.6/site-packages/scipy/io/matlab/mio5.py\u001b[0m in \u001b[0;36mwrite\u001b[0;34m(self, arr)\u001b[0m\n\u001b[1;32m    653\u001b[0m         \u001b[0;32mif\u001b[0m \u001b[0mnarr\u001b[0m \u001b[0;32mis\u001b[0m \u001b[0;32mNone\u001b[0m\u001b[0;34m:\u001b[0m\u001b[0;34m\u001b[0m\u001b[0;34m\u001b[0m\u001b[0m\n\u001b[1;32m    654\u001b[0m             raise TypeError('Could not convert %s (type %s) to array'\n\u001b[0;32m--> 655\u001b[0;31m                             % (arr, type(arr)))\n\u001b[0m\u001b[1;32m    656\u001b[0m         \u001b[0;32mif\u001b[0m \u001b[0misinstance\u001b[0m\u001b[0;34m(\u001b[0m\u001b[0mnarr\u001b[0m\u001b[0;34m,\u001b[0m \u001b[0mMatlabObject\u001b[0m\u001b[0;34m)\u001b[0m\u001b[0;34m:\u001b[0m\u001b[0;34m\u001b[0m\u001b[0;34m\u001b[0m\u001b[0m\n\u001b[1;32m    657\u001b[0m             \u001b[0mself\u001b[0m\u001b[0;34m.\u001b[0m\u001b[0mwrite_object\u001b[0m\u001b[0;34m(\u001b[0m\u001b[0mnarr\u001b[0m\u001b[0;34m)\u001b[0m\u001b[0;34m\u001b[0m\u001b[0;34m\u001b[0m\u001b[0m\n",
      "\u001b[0;31mTypeError\u001b[0m: Could not convert None (type <class 'NoneType'>) to array"
     ]
    }
   ],
   "source": [
    "t0 = time.time()\n",
    "smoothmeshname, QG2 = compute_smoothed_matrices('/home/bonaiuto/Dropbox/Projects/software/MEGsurfer/python/test_output/sub-104/multilayer.2.ds.link_vector.gii', 5.0, 2)\n",
    "t1 = time.time()\n",
    "total = t1-t0\n",
    "print(f'{total} seconds')"
   ]
  },
  {
   "cell_type": "code",
   "execution_count": 4,
   "metadata": {},
   "outputs": [],
   "source": [
    "meshname='/home/bonaiuto/Dropbox/Projects/software/MEGsurfer/python/test_output/sub-104/multilayer.2.ds.link_vector.gii'\n",
    "fwhm=5.0\n",
    "n_layers=2\n",
    "\n",
    "gifti_surf = nib.load(meshname)\n",
    "vertices = gifti_surf.darrays[0].data\n",
    "faces = gifti_surf.darrays[1].data\n",
    "Ns = vertices.shape[0]\n",
    "Ns_per_layer = Ns // n_layers\n",
    "vertspace = np.mean(np.sqrt(compute_mesh_area(gifti_surf, PF=True)))\n",
    "\n",
    "smoothmeshname = os.path.join(os.path.dirname(meshname), f'FWHM{fwhm:3.2f}_{os.path.basename(meshname)}.mat')\n",
    "\n",
    "if fwhm > vertspace * 100 or fwhm < vertspace / 100:\n",
    "    raise ValueError('Mismatch between FWHM and mesh units')\n",
    "\n",
    "sigma2 = (fwhm / 2.355) ** 2\n",
    "QG = sp.lil_matrix((Ns, Ns))\n",
    "\n",
    "l=0\n",
    "#def process_layer(l):\n",
    "QGl = sp.lil_matrix((Ns, Ns_per_layer))\n",
    "j=0\n",
    "#    for j in range(Ns_per_layer):\n",
    "source_indices = np.array([l * Ns_per_layer + j])\n",
    "dist = compute_geodesic_distances(vertices, faces, source_indices, max_dist=fwhm)"
   ]
  },
  {
   "cell_type": "code",
   "execution_count": 5,
   "metadata": {},
   "outputs": [
    {
     "data": {
      "text/plain": [
       "array([0.        , 1.70707333, 3.47912872, 4.58544552,        inf,\n",
       "              inf,        inf, 5.77762938, 1.60122454,        inf,\n",
       "       2.56376362, 2.00182366,        inf, 4.45750996,        inf,\n",
       "              inf,        inf, 6.79675457, 5.92219687,        inf])"
      ]
     },
     "execution_count": 5,
     "metadata": {},
     "output_type": "execute_result"
    }
   ],
   "source": [
    "dist[0:20]"
   ]
  },
  {
   "cell_type": "code",
   "execution_count": 42,
   "metadata": {},
   "outputs": [],
   "source": [
    "dist2 = compute_mesh_geodesic(gifti_surf, source_indices, max_dist=fwhm)"
   ]
  },
  {
   "cell_type": "code",
   "execution_count": 43,
   "metadata": {},
   "outputs": [
    {
     "data": {
      "text/plain": [
       "array([0.        , 1.70707333, 3.41414666, 4.52046347,        inf,\n",
       "              inf,        inf, 6.69915557, 1.60122454,        inf])"
      ]
     },
     "execution_count": 43,
     "metadata": {},
     "output_type": "execute_result"
    }
   ],
   "source": [
    "dist2[0:10]"
   ]
  },
  {
   "cell_type": "code",
   "execution_count": 25,
   "metadata": {},
   "outputs": [
    {
     "data": {
      "text/plain": [
       "0"
      ]
     },
     "execution_count": 25,
     "metadata": {},
     "output_type": "execute_result"
    }
   ],
   "source": [
    "np.min(faces[:])"
   ]
  },
  {
   "cell_type": "code",
   "execution_count": 80,
   "metadata": {},
   "outputs": [
    {
     "data": {
      "text/plain": [
       "array([-82359], dtype=int32)"
      ]
     },
     "execution_count": 80,
     "metadata": {},
     "output_type": "execute_result"
    }
   ],
   "source": [
    "source_indices"
   ]
  },
  {
   "cell_type": "code",
   "execution_count": null,
   "metadata": {},
   "outputs": [],
   "source": [
    "d = distances[0, :]\n",
    "useind = d <= fwhm\n",
    "print(np.where(useind)[0])"
   ]
  },
  {
   "cell_type": "code",
   "execution_count": 125,
   "metadata": {},
   "outputs": [
    {
     "data": {
      "image/png": "[encoded data removed]",
      "text/plain": [
       "<Figure size 432x288 with 1 Axes>"
      ]
     },
     "metadata": {
      "needs_background": "light"
     },
     "output_type": "display_data"
    }
   ],
   "source": [
    "import matplotlib.pyplot as plt\n",
    "_=plt.hist(distances[~np.isinf(distances)],110)"
   ]
  },
  {
   "cell_type": "code",
   "execution_count": 126,
   "metadata": {},
   "outputs": [
    {
     "data": {
      "text/plain": [
       "array([[         inf,          inf,          inf, ...,          inf,\n",
       "                 inf, 190.88475031]])"
      ]
     },
     "execution_count": 126,
     "metadata": {},
     "output_type": "execute_result"
    }
   ],
   "source": [
    "distances"
   ]
  },
  {
   "cell_type": "code",
   "execution_count": 7,
   "metadata": {},
   "outputs": [
    {
     "data": {
      "text/plain": [
       "1"
      ]
     },
     "execution_count": 7,
     "metadata": {},
     "output_type": "execute_result"
    }
   ],
   "source": [
    "N[1,0]"
   ]
  },
  {
   "cell_type": "code",
   "execution_count": 8,
   "metadata": {},
   "outputs": [
    {
     "data": {
      "text/plain": [
       "1.7070733"
      ]
     },
     "execution_count": 8,
     "metadata": {},
     "output_type": "execute_result"
    }
   ],
   "source": [
    "np.sqrt(np.sum(np.power(gifti_surf.darrays[0].data[0,:]-gifti_surf.darrays[0].data[1,:],2)))"
   ]
  },
  {
   "cell_type": "code",
   "execution_count": 57,
   "metadata": {},
   "outputs": [
    {
     "ename": "MemoryError",
     "evalue": "Unable to allocate 202. GiB for an array with shape (164716, 164716) and data type float64",
     "output_type": "error",
     "traceback": [
      "\u001b[0;31m---------------------------------------------------------------------------\u001b[0m",
      "\u001b[0;31mMemoryError\u001b[0m                               Traceback (most recent call last)",
      "\u001b[0;32m<ipython-input-57-c22d88341e82>\u001b[0m in \u001b[0;36m<module>\u001b[0;34m\u001b[0m\n\u001b[1;32m     74\u001b[0m \u001b[0;31m# Example usage\u001b[0m\u001b[0;34m\u001b[0m\u001b[0;34m\u001b[0m\u001b[0;34m\u001b[0m\u001b[0m\n\u001b[1;32m     75\u001b[0m \u001b[0mgifti_surf\u001b[0m \u001b[0;34m=\u001b[0m \u001b[0mnib\u001b[0m\u001b[0;34m.\u001b[0m\u001b[0mload\u001b[0m\u001b[0;34m(\u001b[0m\u001b[0;34m'/home/bonaiuto/Dropbox/Projects/software/MEGsurfer/python/test_output/sub-104/multilayer.2.ds.link_vector.gii'\u001b[0m\u001b[0;34m)\u001b[0m\u001b[0;34m\u001b[0m\u001b[0;34m\u001b[0m\u001b[0m\n\u001b[0;32m---> 76\u001b[0;31m \u001b[0mgeodesic_distances\u001b[0m \u001b[0;34m=\u001b[0m \u001b[0mcompute_geodesic_distances_batch\u001b[0m\u001b[0;34m(\u001b[0m\u001b[0mgifti_surf\u001b[0m\u001b[0;34m)\u001b[0m\u001b[0;34m\u001b[0m\u001b[0;34m\u001b[0m\u001b[0m\n\u001b[0m",
      "\u001b[0;32m<ipython-input-57-c22d88341e82>\u001b[0m in \u001b[0;36mcompute_geodesic_distances_batch\u001b[0;34m(gifti_surf, batch_size)\u001b[0m\n\u001b[1;32m     58\u001b[0m     \u001b[0madjacency_matrix\u001b[0m \u001b[0;34m=\u001b[0m \u001b[0mbuild_adjacency_matrix\u001b[0m\u001b[0;34m(\u001b[0m\u001b[0mgifti_surf\u001b[0m\u001b[0;34m)\u001b[0m\u001b[0;34m\u001b[0m\u001b[0;34m\u001b[0m\u001b[0m\n\u001b[1;32m     59\u001b[0m     \u001b[0mn_vertices\u001b[0m \u001b[0;34m=\u001b[0m \u001b[0madjacency_matrix\u001b[0m\u001b[0;34m.\u001b[0m\u001b[0mshape\u001b[0m\u001b[0;34m[\u001b[0m\u001b[0;36m0\u001b[0m\u001b[0;34m]\u001b[0m\u001b[0;34m\u001b[0m\u001b[0;34m\u001b[0m\u001b[0m\n\u001b[0;32m---> 60\u001b[0;31m     \u001b[0mdistances\u001b[0m \u001b[0;34m=\u001b[0m \u001b[0mnp\u001b[0m\u001b[0;34m.\u001b[0m\u001b[0mzeros\u001b[0m\u001b[0;34m(\u001b[0m\u001b[0;34m(\u001b[0m\u001b[0mn_vertices\u001b[0m\u001b[0;34m,\u001b[0m \u001b[0mn_vertices\u001b[0m\u001b[0;34m)\u001b[0m\u001b[0;34m)\u001b[0m\u001b[0;34m\u001b[0m\u001b[0;34m\u001b[0m\u001b[0m\n\u001b[0m\u001b[1;32m     61\u001b[0m \u001b[0;34m\u001b[0m\u001b[0m\n\u001b[1;32m     62\u001b[0m     \u001b[0;32mfor\u001b[0m \u001b[0mi\u001b[0m \u001b[0;32min\u001b[0m \u001b[0mrange\u001b[0m\u001b[0;34m(\u001b[0m\u001b[0;36m0\u001b[0m\u001b[0;34m,\u001b[0m \u001b[0mn_vertices\u001b[0m\u001b[0;34m,\u001b[0m \u001b[0mbatch_size\u001b[0m\u001b[0;34m)\u001b[0m\u001b[0;34m:\u001b[0m\u001b[0;34m\u001b[0m\u001b[0;34m\u001b[0m\u001b[0m\n",
      "\u001b[0;31mMemoryError\u001b[0m: Unable to allocate 202. GiB for an array with shape (164716, 164716) and data type float64"
     ]
    }
   ],
   "source": [
    "import numpy as np\n",
    "import nibabel as nib\n",
    "from scipy.sparse import csr_matrix\n",
    "from scipy.sparse.csgraph import dijkstra\n",
    "\n",
    "def build_adjacency_matrix(gifti_surf):\n",
    "    \"\"\"\n",
    "    Build an adjacency matrix from a nibabel gifti object.\n",
    "\n",
    "    Parameters:\n",
    "    gifti_surf (nibabel.gifti.GiftiImage): GiftiImage object containing the mesh data.\n",
    "\n",
    "    Returns:\n",
    "    scipy.sparse.csr_matrix: Adjacency matrix as a sparse matrix.\n",
    "    \"\"\"\n",
    "    faces = gifti_surf.darrays[1].data\n",
    "    n_vertices = gifti_surf.darrays[0].data.shape[0]\n",
    "\n",
    "    # Build sparse adjacency matrix\n",
    "    row_ind = np.hstack([faces[:, 0], faces[:, 1], faces[:, 2]])\n",
    "    col_ind = np.hstack([faces[:, 1], faces[:, 2], faces[:, 0]])\n",
    "    data = np.ones(len(row_ind), dtype=np.float32)\n",
    "\n",
    "    adjacency_matrix = csr_matrix((data, (row_ind, col_ind)), shape=(n_vertices, n_vertices))\n",
    "    adjacency_matrix = adjacency_matrix + adjacency_matrix.T  # Ensure symmetry\n",
    "    adjacency_matrix[adjacency_matrix > 1] = 1  # Remove duplicate edges\n",
    "\n",
    "    return adjacency_matrix\n",
    "\n",
    "def compute_geodesic_distances(gifti_surf):\n",
    "    \"\"\"\n",
    "    Compute geodesic distances for each vertex to every other vertex.\n",
    "\n",
    "    Parameters:\n",
    "    gifti_surf (nibabel.gifti.GiftiImage): GiftiImage object containing the mesh data.\n",
    "\n",
    "    Returns:\n",
    "    numpy.ndarray: Matrix of geodesic distances.\n",
    "    \"\"\"\n",
    "    adjacency_matrix = build_adjacency_matrix(gifti_surf)\n",
    "\n",
    "    # Compute geodesic distances using Dijkstra's algorithm\n",
    "    distances, _ = dijkstra(adjacency_matrix, return_predecessors=True, directed=False, unweighted=False)\n",
    "\n",
    "    return distances\n",
    "\n",
    "def compute_geodesic_distances_batch(gifti_surf, batch_size=1000):\n",
    "    \"\"\"\n",
    "    Compute geodesic distances for each vertex to every other vertex in batches.\n",
    "\n",
    "    Parameters:\n",
    "    gifti_surf (nibabel.gifti.GiftiImage): GiftiImage object containing the mesh data.\n",
    "    batch_size (int): Number of vertices to process in each batch.\n",
    "\n",
    "    Returns:\n",
    "    numpy.ndarray: Matrix of geodesic distances.\n",
    "    \"\"\"\n",
    "    adjacency_matrix = build_adjacency_matrix(gifti_surf)\n",
    "    n_vertices = adjacency_matrix.shape[0]\n",
    "    distances = np.zeros((n_vertices, n_vertices))\n",
    "\n",
    "    for i in range(0, n_vertices, batch_size):\n",
    "        end = min(i + batch_size, n_vertices)\n",
    "        batch_distances, _ = dijkstra(adjacency_matrix, indices=range(i, end), return_predecessors=True, directed=False, unweighted=False)\n",
    "        distances[i:end, :] = batch_distances\n",
    "\n",
    "    return distances\n",
    "\n",
    "# Example usage\n",
    "# gifti_surf = nib.load('path_to_your_gifti_file.gii')\n",
    "# geodesic_distances = compute_geodesic_distances_batch(gifti_surf)\n",
    "\n",
    "\n",
    "# Example usage\n",
    "gifti_surf = nib.load('/home/bonaiuto/Dropbox/Projects/software/MEGsurfer/python/test_output/sub-104/multilayer.2.ds.link_vector.gii')\n",
    "geodesic_distances = compute_geodesic_distances_batch(gifti_surf)"
   ]
  },
  {
   "cell_type": "code",
   "execution_count": 50,
   "metadata": {},
   "outputs": [
    {
     "data": {
      "text/plain": [
       "(164716, 3)"
      ]
     },
     "execution_count": 50,
     "metadata": {},
     "output_type": "execute_result"
    }
   ],
   "source": [
    "gifti_surf.darrays[0].data.shape"
   ]
  },
  {
   "cell_type": "code",
   "execution_count": 51,
   "metadata": {},
   "outputs": [
    {
     "data": {
      "text/plain": [
       "(53425, 3)"
      ]
     },
     "execution_count": 51,
     "metadata": {},
     "output_type": "execute_result"
    }
   ],
   "source": [
    "gifti_surf = nib.load('/home/bonaiuto/Dropbox/Projects/inProgress/auditory_laminar/derivatives/processed/sub-104/surf/pial.ds.gii')\n",
    "gifti_surf.darrays[0].data.shape"
   ]
  },
  {
   "cell_type": "code",
   "execution_count": 52,
   "metadata": {},
   "outputs": [
    {
     "data": {
      "text/plain": [
       "(507832, 3)"
      ]
     },
     "execution_count": 52,
     "metadata": {},
     "output_type": "execute_result"
    }
   ],
   "source": [
    "gifti_surf = nib.load('/home/bonaiuto/Dropbox/Projects/software/MEGsurfer/python/test_output/sub-104/pial.gii')\n",
    "gifti_surf.darrays[0].data.shape"
   ]
  },
  {
   "cell_type": "code",
   "execution_count": 56,
   "metadata": {},
   "outputs": [
    {
     "data": {
      "text/plain": [
       "0.16217568014619008"
      ]
     },
     "execution_count": 56,
     "metadata": {},
     "output_type": "execute_result"
    }
   ],
   "source": [
    "ds_gifti_surf = nib.load('/home/bonaiuto/Dropbox/Projects/software/MEGsurfer/python/test_output/sub-104/pial.ds.gii')\n",
    "ds_gifti_surf.darrays[0].data.shape[0]/gifti_surf.darrays[0].data.shape[0]"
   ]
  },
  {
   "cell_type": "code",
   "execution_count": 10,
   "metadata": {},
   "outputs": [],
   "source": [
    "out_dir='./test_output'\n",
    "subj_id='sub-104'\n",
    "subject_out_dir = os.path.join(out_dir, subj_id)\n",
    "parasite = matlab.engine.start_matlab()"
   ]
  },
  {
   "cell_type": "code",
   "execution_count": 11,
   "metadata": {},
   "outputs": [
    {
     "ename": "MatlabExecutionError",
     "evalue": "\n  File /home/bonaiuto/Dropbox/Projects/software/MEGsurfer/python/spm_eeg_smoothmesh_full_multilayer_mm.m, line 34, in spm_eeg_smoothmesh_full_multilayer_mm\n\n  File /home/bonaiuto/Dropbox/Projects/software/MEGsurfer/python/invert_ebb.m, line 10, in invert_ebb\nOutput argument \"QG_layers\" (and maybe others) not assigned during call to \"spm_eeg_smoothmesh_full_multilayer_mm>makeF%1/F%\".\n",
     "output_type": "error",
     "traceback": [
      "\u001b[0;31m---------------------------------------------------------------------------\u001b[0m",
      "\u001b[0;31mMatlabExecutionError\u001b[0m                      Traceback (most recent call last)",
      "\u001b[0;32m<ipython-input-11-074929fc1b42>\u001b[0m in \u001b[0;36m<module>\u001b[0;34m\u001b[0m\n\u001b[1;32m     21\u001b[0m \u001b[0mn_layers\u001b[0m\u001b[0;34m=\u001b[0m\u001b[0;36m2\u001b[0m\u001b[0;34m\u001b[0m\u001b[0;34m\u001b[0m\u001b[0m\n\u001b[1;32m     22\u001b[0m \u001b[0;34m\u001b[0m\u001b[0m\n\u001b[0;32m---> 23\u001b[0;31m \u001b[0mparasite\u001b[0m\u001b[0;34m.\u001b[0m\u001b[0minvert_ebb\u001b[0m\u001b[0;34m(\u001b[0m\u001b[0mdata_file\u001b[0m\u001b[0;34m,\u001b[0m \u001b[0mcoreg_fname\u001b[0m\u001b[0;34m,\u001b[0m \u001b[0mmri_fname\u001b[0m\u001b[0;34m,\u001b[0m \u001b[0mmesh_fname\u001b[0m\u001b[0;34m,\u001b[0m \u001b[0mnas\u001b[0m\u001b[0;34m,\u001b[0m \u001b[0mlpa\u001b[0m\u001b[0;34m,\u001b[0m \u001b[0mrpa\u001b[0m\u001b[0;34m,\u001b[0m \u001b[0mpatch_size\u001b[0m\u001b[0;34m,\u001b[0m \u001b[0mn_temp_modes\u001b[0m\u001b[0;34m,\u001b[0m \u001b[0mwoi\u001b[0m\u001b[0;34m,\u001b[0m \u001b[0mn_layers\u001b[0m\u001b[0;34m,\u001b[0m \u001b[0mnargout\u001b[0m\u001b[0;34m=\u001b[0m\u001b[0;36m0\u001b[0m\u001b[0;34m)\u001b[0m\u001b[0;34m\u001b[0m\u001b[0;34m\u001b[0m\u001b[0m\n\u001b[0m",
      "\u001b[0;32m~/miniconda3/envs/megsurfer_matlab/lib/python3.6/site-packages/matlab/engine/matlabengine.py\u001b[0m in \u001b[0;36m__call__\u001b[0;34m(self, *args, **kwargs)\u001b[0m\n\u001b[1;32m     69\u001b[0m         \u001b[0;32melse\u001b[0m\u001b[0;34m:\u001b[0m\u001b[0;34m\u001b[0m\u001b[0;34m\u001b[0m\u001b[0m\n\u001b[1;32m     70\u001b[0m             return FutureResult(self._engine(), future, nargs, _stdout,\n\u001b[0;32m---> 71\u001b[0;31m                                 _stderr, feval=True).result()\n\u001b[0m\u001b[1;32m     72\u001b[0m \u001b[0;34m\u001b[0m\u001b[0m\n\u001b[1;32m     73\u001b[0m     \u001b[0;32mdef\u001b[0m \u001b[0m__validate_engine\u001b[0m\u001b[0;34m(\u001b[0m\u001b[0mself\u001b[0m\u001b[0;34m)\u001b[0m\u001b[0;34m:\u001b[0m\u001b[0;34m\u001b[0m\u001b[0;34m\u001b[0m\u001b[0m\n",
      "\u001b[0;32m~/miniconda3/envs/megsurfer_matlab/lib/python3.6/site-packages/matlab/engine/futureresult.py\u001b[0m in \u001b[0;36mresult\u001b[0;34m(self, timeout)\u001b[0m\n\u001b[1;32m     65\u001b[0m                 \u001b[0;32mraise\u001b[0m \u001b[0mTypeError\u001b[0m\u001b[0;34m(\u001b[0m\u001b[0mpythonengine\u001b[0m\u001b[0;34m.\u001b[0m\u001b[0mgetMessage\u001b[0m\u001b[0;34m(\u001b[0m\u001b[0;34m'TimeoutCannotBeNegative'\u001b[0m\u001b[0;34m)\u001b[0m\u001b[0;34m)\u001b[0m\u001b[0;34m\u001b[0m\u001b[0;34m\u001b[0m\u001b[0m\n\u001b[1;32m     66\u001b[0m \u001b[0;34m\u001b[0m\u001b[0m\n\u001b[0;32m---> 67\u001b[0;31m         \u001b[0;32mreturn\u001b[0m \u001b[0mself\u001b[0m\u001b[0;34m.\u001b[0m\u001b[0m__future\u001b[0m\u001b[0;34m.\u001b[0m\u001b[0mresult\u001b[0m\u001b[0;34m(\u001b[0m\u001b[0mtimeout\u001b[0m\u001b[0;34m)\u001b[0m\u001b[0;34m\u001b[0m\u001b[0;34m\u001b[0m\u001b[0m\n\u001b[0m\u001b[1;32m     68\u001b[0m \u001b[0;34m\u001b[0m\u001b[0m\n\u001b[1;32m     69\u001b[0m     \u001b[0;32mdef\u001b[0m \u001b[0mcancel\u001b[0m\u001b[0;34m(\u001b[0m\u001b[0mself\u001b[0m\u001b[0;34m)\u001b[0m\u001b[0;34m:\u001b[0m\u001b[0;34m\u001b[0m\u001b[0;34m\u001b[0m\u001b[0m\n",
      "\u001b[0;32m~/miniconda3/envs/megsurfer_matlab/lib/python3.6/site-packages/matlab/engine/fevalfuture.py\u001b[0m in \u001b[0;36mresult\u001b[0;34m(self, timeout)\u001b[0m\n\u001b[1;32m     80\u001b[0m                 \u001b[0;32mraise\u001b[0m \u001b[0mTimeoutError\u001b[0m\u001b[0;34m(\u001b[0m\u001b[0mpythonengine\u001b[0m\u001b[0;34m.\u001b[0m\u001b[0mgetMessage\u001b[0m\u001b[0;34m(\u001b[0m\u001b[0;34m'MatlabFunctionTimeout'\u001b[0m\u001b[0;34m)\u001b[0m\u001b[0;34m)\u001b[0m\u001b[0;34m\u001b[0m\u001b[0;34m\u001b[0m\u001b[0m\n\u001b[1;32m     81\u001b[0m \u001b[0;34m\u001b[0m\u001b[0m\n\u001b[0;32m---> 82\u001b[0;31m             \u001b[0mself\u001b[0m\u001b[0;34m.\u001b[0m\u001b[0m_result\u001b[0m \u001b[0;34m=\u001b[0m \u001b[0mpythonengine\u001b[0m\u001b[0;34m.\u001b[0m\u001b[0mgetFEvalResult\u001b[0m\u001b[0;34m(\u001b[0m\u001b[0mself\u001b[0m\u001b[0;34m.\u001b[0m\u001b[0m_future\u001b[0m\u001b[0;34m,\u001b[0m\u001b[0mself\u001b[0m\u001b[0;34m.\u001b[0m\u001b[0m_nargout\u001b[0m\u001b[0;34m,\u001b[0m \u001b[0;32mNone\u001b[0m\u001b[0;34m,\u001b[0m \u001b[0mout\u001b[0m\u001b[0;34m=\u001b[0m\u001b[0mself\u001b[0m\u001b[0;34m.\u001b[0m\u001b[0m_out\u001b[0m\u001b[0;34m,\u001b[0m \u001b[0merr\u001b[0m\u001b[0;34m=\u001b[0m\u001b[0mself\u001b[0m\u001b[0;34m.\u001b[0m\u001b[0m_err\u001b[0m\u001b[0;34m)\u001b[0m\u001b[0;34m\u001b[0m\u001b[0;34m\u001b[0m\u001b[0m\n\u001b[0m\u001b[1;32m     83\u001b[0m             \u001b[0mself\u001b[0m\u001b[0;34m.\u001b[0m\u001b[0m_retrieved\u001b[0m \u001b[0;34m=\u001b[0m \u001b[0;32mTrue\u001b[0m\u001b[0;34m\u001b[0m\u001b[0;34m\u001b[0m\u001b[0m\n\u001b[1;32m     84\u001b[0m             \u001b[0;32mreturn\u001b[0m \u001b[0mself\u001b[0m\u001b[0;34m.\u001b[0m\u001b[0m_result\u001b[0m\u001b[0;34m\u001b[0m\u001b[0;34m\u001b[0m\u001b[0m\n",
      "\u001b[0;31mMatlabExecutionError\u001b[0m: \n  File /home/bonaiuto/Dropbox/Projects/software/MEGsurfer/python/spm_eeg_smoothmesh_full_multilayer_mm.m, line 34, in spm_eeg_smoothmesh_full_multilayer_mm\n\n  File /home/bonaiuto/Dropbox/Projects/software/MEGsurfer/python/invert_ebb.m, line 10, in invert_ebb\nOutput argument \"QG_layers\" (and maybe others) not assigned during call to \"spm_eeg_smoothmesh_full_multilayer_mm>makeF%1/F%\".\n"
     ]
    }
   ],
   "source": [
    "##\n",
    "# Step 1) Invert the subject's data. This step only has to be done once\n",
    "## \n",
    "\n",
    "# Subject fiducial coil coordinates\n",
    "nas=[0.9662503311032098, 108.83514306876269, 1.6712361927090313]\n",
    "lpa=[-74.28671169006893, 20.15061014698176, -29.849056272705948]\n",
    "rpa=[76.02110531729883, 18.9467849625573, -25.779407159603114]\n",
    "\n",
    "# T1\n",
    "mri_fname = '/home/bonaiuto/Dropbox/Projects/software/MEGsurfer/python/test_data/spm/sub-104/s2023-02-28_13-33-133958-00001-00224-1.nii'\n",
    "\n",
    "mesh_fname = '/home/bonaiuto/Dropbox/Projects/software/MEGsurfer/python/test_output/sub-104/multilayer.2.ds.link_vector.gii'\n",
    "\n",
    "# Data file to base simulations on\n",
    "data_file='/home/bonaiuto/Dropbox/Projects/software/MEGsurfer/python/test_data/processed/sub-104/ses-01/spm/spm-converted_autoreject-sub-104-ses-01-001-btn_trial-epo.mat'\n",
    "coreg_fname='/home/bonaiuto/Dropbox/Projects/software/MEGsurfer/python/test_output/sub-104/inv/multilayer.2.ds.link_vector.spm-converted_autoreject-sub-104-ses-01-001-btn_trial-epo.mat'\n",
    "patch_size=5\n",
    "n_temp_modes = 4\n",
    "woi=[0, 1000]\n",
    "n_layers=2\n",
    "\n",
    "parasite.invert_ebb(data_file, coreg_fname, mri_fname, mesh_fname, nas, lpa, rpa, patch_size, n_temp_modes, woi, n_layers, nargout=0)"
   ]
  },
  {
   "cell_type": "code",
   "execution_count": null,
   "metadata": {},
   "outputs": [],
   "source": [
    "function simlayer_free_energy(subj_info, session_num, invfoi, SNR, varargin)\n",
    "% SIMLAYER_FREE_ENERGY  Run simulations with whole brain - free energy\n",
    "%   analysis\n",
    "%\n",
    "% Use as\n",
    "%   simlayer_free_energy(subjects(1), 1, [10 30], -20)\n",
    "% where the first argument is the subject info structure (from create_subjects),\n",
    "% the second is the session number, the third is the frequency range, and\n",
    "% the fourth is the SNR (db).\n",
    "% \n",
    "%   simlayer_free_energy(...,'param','value','param','value'...) allows\n",
    "%    additional param/value pairs to be used. Allowed parameters:\n",
    "%    * surf_dir - directory containing subject surfaces\n",
    "%    * mri_dir - directory containing subject MRIs\n",
    "%    * out_file - output file name (automatically generated if not\n",
    "%    specified)\n",
    "%    * dipole_moment - 10 (default) or interger - moment of simulated\n",
    "%    dipole\n",
    "%    * sim_patch_size - 5 (default) or interger - simulated patch size\n",
    "%    * reconstruct_patch_size - 5 (default) or interger - reconstruction patch size\n",
    "%    * nsims - 60 (default) or integer - number of simulations per surface\n",
    "\n",
    "% Parse inputs\n",
    "defaults = struct('surf_dir', 'd:\\pred_coding\\surf', 'mri_dir', 'd:\\pred_coding\\mri',...\n",
    "    'out_file', '', 'dipole_moment', 10, 'sim_patch_size', 5,...\n",
    "    'reconstruct_patch_size', 5, 'nsims', 60);  %define default values\n",
    "params = struct(varargin{:});\n",
    "for f = fieldnames(defaults)',\n",
    "    if ~isfield(params, f{1}),\n",
    "        params.(f{1}) = defaults.(f{1});\n",
    "    end\n",
    "end\n",
    "\n",
    "% Copy already-inverted file\n",
    "rawfile=fullfile('d:/pred_coding/analysis/',subj_info.subj_id,...\n",
    "    num2str(session_num), 'grey_coreg\\EBB\\p0.4\\instr\\f15_30',...\n",
    "    sprintf('br%s_%d.mat',subj_info.subj_id,session_num));\n",
    "% Output directory\n",
    "out_path=fullfile('c:/layer_sim/results',subj_info.subj_id,num2str(session_num));\n",
    "if exist(out_path,'dir')~=7\n",
    "    mkdir(out_path);\n",
    "end\n",
    "% New file to work with\n",
    "newfile=fullfile(out_path, sprintf('%s_%d.mat',subj_info.subj_id,session_num));\n",
    "\n",
    "if length(params.out_file)==0\n",
    "    params.out_file=sprintf('allcrossF_f%d_%d_SNR%d_dipolemoment%d.mat',...\n",
    "        invfoi(1),invfoi(2),SNR,params.dipole_moment);\n",
    "end\n",
    "\n",
    "spm('defaults', 'EEG');\n",
    "spm_jobman('initcfg'); \n",
    "\n",
    "% Copy file to foi_dir\n",
    "clear jobs\n",
    "matlabbatch=[];\n",
    "matlabbatch{1}.spm.meeg.other.copy.D = {rawfile};\n",
    "matlabbatch{1}.spm.meeg.other.copy.outfile = newfile;\n",
    "spm_jobman('run', matlabbatch);\n",
    "\n",
    "% White and pial meshes for this subject\n",
    "allmeshes=strvcat(fullfile(params.surf_dir,[subj_info.subj_id subj_info.birth_date '-synth'],'surf','ds_white.hires.deformed.surf.gii'),...\n",
    "    fullfile(params.surf_dir,[subj_info.subj_id subj_info.birth_date '-synth'],'surf','ds_pial.hires.deformed.surf.gii'));\n",
    "Nmesh=size(allmeshes,1);\n",
    "\n",
    "% Create smoothed meshes\n",
    "for meshind=1:Nmesh,\n",
    "    [smoothkern]=spm_eeg_smoothmesh_mm(deblank(allmeshes(meshind,:)),params.sim_patch_size);\n",
    "end\n",
    "\n",
    "%% Setup simulation - number of sources, list of vertices to simulate on\n",
    "mesh_one=gifti(allmeshes(1,:));\n",
    "nverts=size(mesh_one.vertices,1);\n",
    "rng(0);\n",
    "simvertind=randperm(nverts); %% random list of vertex indices to simulate sources on\n",
    "Nsim=params.nsims; %% number of simulated sources\n",
    "\n",
    "%% for MSP  or GS or ARD\n",
    "% Number of patches as priors\n",
    "Npatch=round(Nsim*1.5);\n",
    "% so use all vertices that will be simulated on (plus a few more) as MSP priors\n",
    "Ip=simvertind(1:Npatch);\n",
    "\n",
    "% Save priors\n",
    "patchfilename=fullfile(out_path, 'temppatch.mat');\n",
    "save(patchfilename,'Ip');\n",
    "\n",
    "% Inversion method to use\n",
    "methodnames={'EBB','IID','COH','MSP'}; %% just 1 method for now\n",
    "Nmeth=length(methodnames);\n",
    "\n",
    "% Inversion parameters\n",
    "invwoi=[100 500];\n",
    "% Number of cross validation folds\n",
    "Nfolds=1;\n",
    "% Percentage of test channels in cross validation\n",
    "ideal_pctest=0;\n",
    "% Use all available spatial modes\n",
    "ideal_Nmodes=[];\n",
    "\n",
    "\n",
    "% All F values\n",
    "allcrossF=zeros(Nmesh,Nsim,Nmesh,Nmeth);\n",
    "allcrossVE=zeros(Nmesh,Nsim,Nmesh,Nmeth);\n",
    "\n",
    "regfiles={};\n",
    "spatialmodesnames={};\n",
    "\n",
    "for meshind=1:Nmesh,\n",
    "    regfile=fullfile(out_path, sprintf('%s_%d_%dcoreg.mat',subj_info.subj_id,session_num,meshind));\n",
    "    regfiles{meshind}=regfile;\n",
    "    if exist(regfile,'file')~=2\n",
    "        clear jobs\n",
    "        matlabbatch=[];\n",
    "        matlabbatch{1}.spm.meeg.other.copy.D = {rawfile};\n",
    "        matlabbatch{1}.spm.meeg.other.copy.outfile = regfile;\n",
    "        spm_jobman('run', matlabbatch);\n",
    "        \n",
    "        % Coregister simulated dataset to reconstruction mesh\n",
    "        matlabbatch=[];\n",
    "        matlabbatch{1}.spm.meeg.source.headmodel.D = {regfile};\n",
    "        matlabbatch{1}.spm.meeg.source.headmodel.val = 1;\n",
    "        matlabbatch{1}.spm.meeg.source.headmodel.comment = '';\n",
    "        matlabbatch{1}.spm.meeg.source.headmodel.meshing.meshes.custom.mri = {fullfile(params.mri_dir,[subj_info.subj_id subj_info.birth_date], [subj_info.headcast_t1 ',1'])};\n",
    "        matlabbatch{1}.spm.meeg.source.headmodel.meshing.meshes.custom.cortex = {deblank(allmeshes(meshind,:))};\n",
    "        matlabbatch{1}.spm.meeg.source.headmodel.meshing.meshes.custom.iskull = {''};\n",
    "        matlabbatch{1}.spm.meeg.source.headmodel.meshing.meshes.custom.oskull = {''};\n",
    "        matlabbatch{1}.spm.meeg.source.headmodel.meshing.meshes.custom.scalp = {''};\n",
    "        matlabbatch{1}.spm.meeg.source.headmodel.meshing.meshres = 2;\n",
    "        matlabbatch{1}.spm.meeg.source.headmodel.coregistration.coregspecify.fiducial(1).fidname = 'nas';\n",
    "        matlabbatch{1}.spm.meeg.source.headmodel.coregistration.coregspecify.fiducial(1).specification.type = subj_info.nas;\n",
    "        matlabbatch{1}.spm.meeg.source.headmodel.coregistration.coregspecify.fiducial(2).fidname = 'lpa';\n",
    "        matlabbatch{1}.spm.meeg.source.headmodel.coregistration.coregspecify.fiducial(2).specification.type = subj_info.lpa;\n",
    "        matlabbatch{1}.spm.meeg.source.headmodel.coregistration.coregspecify.fiducial(3).fidname = 'rpa';\n",
    "        matlabbatch{1}.spm.meeg.source.headmodel.coregistration.coregspecify.fiducial(3).specification.type = subj_info.rpa;\n",
    "        matlabbatch{1}.spm.meeg.source.headmodel.coregistration.coregspecify.useheadshape = 0;\n",
    "        matlabbatch{1}.spm.meeg.source.headmodel.forward.eeg = 'EEG BEM';\n",
    "        matlabbatch{1}.spm.meeg.source.headmodel.forward.meg = 'Single Shell';            \n",
    "        spm_jobman('run', matlabbatch);                   \n",
    "    end\n",
    "    % Setup spatial modes for cross validation\n",
    "    spatialmodesname=fullfile(out_path, sprintf('%d_testmodes.mat',meshind));    \n",
    "    [spatialmodesname,Nmodes,pctest]=spm_eeg_inv_prep_modes_xval(regfile, ideal_Nmodes, spatialmodesname, Nfolds, ideal_pctest);\n",
    "    spatialmodesnames{meshind}=spatialmodesname;\n",
    "end\n",
    "\n",
    "\n",
    "% Simulate sources on each mesh\n",
    "for simmeshind=1:Nmesh, %% choose mesh to simulate on\n",
    "    \n",
    "    simmesh=deblank(allmeshes(simmeshind,:));\n",
    "    \n",
    "    %% coregister to correct mesh\n",
    "    filename=deblank(newfile);\n",
    "    matlabbatch=[];\n",
    "    matlabbatch{1}.spm.meeg.source.headmodel.D = {filename};\n",
    "    matlabbatch{1}.spm.meeg.source.headmodel.val = 1;\n",
    "    matlabbatch{1}.spm.meeg.source.headmodel.comment = '';\n",
    "    matlabbatch{1}.spm.meeg.source.headmodel.meshing.meshes.custom.mri = {fullfile(params.mri_dir,[subj_info.subj_id subj_info.birth_date], [subj_info.headcast_t1 ',1'])};\n",
    "    matlabbatch{1}.spm.meeg.source.headmodel.meshing.meshes.custom.cortex = {simmesh};\n",
    "    matlabbatch{1}.spm.meeg.source.headmodel.meshing.meshes.custom.iskull = {''};\n",
    "    matlabbatch{1}.spm.meeg.source.headmodel.meshing.meshes.custom.oskull = {''};\n",
    "    matlabbatch{1}.spm.meeg.source.headmodel.meshing.meshes.custom.scalp = {''};\n",
    "    matlabbatch{1}.spm.meeg.source.headmodel.meshing.meshres = 2;\n",
    "    matlabbatch{1}.spm.meeg.source.headmodel.coregistration.coregspecify.fiducial(1).fidname = 'nas';\n",
    "    matlabbatch{1}.spm.meeg.source.headmodel.coregistration.coregspecify.fiducial(1).specification.type = subj_info.nas;\n",
    "    matlabbatch{1}.spm.meeg.source.headmodel.coregistration.coregspecify.fiducial(2).fidname = 'lpa';\n",
    "    matlabbatch{1}.spm.meeg.source.headmodel.coregistration.coregspecify.fiducial(2).specification.type = subj_info.lpa;\n",
    "    matlabbatch{1}.spm.meeg.source.headmodel.coregistration.coregspecify.fiducial(3).fidname = 'rpa';\n",
    "    matlabbatch{1}.spm.meeg.source.headmodel.coregistration.coregspecify.fiducial(3).specification.type = subj_info.rpa;\n",
    "    matlabbatch{1}.spm.meeg.source.headmodel.coregistration.coregspecify.useheadshape = 0;\n",
    "    matlabbatch{1}.spm.meeg.source.headmodel.forward.eeg = 'EEG BEM';\n",
    "    matlabbatch{1}.spm.meeg.source.headmodel.forward.meg = 'Single Shell';\n",
    "    spm_jobman('run', matlabbatch);\n",
    "    \n",
    "    Dmesh=spm_eeg_load(filename);    \n",
    "    \n",
    "    %% now simulate sources on this mesh\n",
    "    for s=1:Nsim,\n",
    "        %% get location to simulate dipole on this mesh\n",
    "        simpos=Dmesh.inv{1}.mesh.tess_mni.vert(simvertind(s),:); \n",
    "        prefix=sprintf('sim_mesh%d_source%d',simmeshind,s);\n",
    "\n",
    "        % Simulate source \n",
    "        matlabbatch=[];\n",
    "        matlabbatch{1}.spm.meeg.source.simulate.D = {filename};\n",
    "        matlabbatch{1}.spm.meeg.source.simulate.val = 1;\n",
    "        matlabbatch{1}.spm.meeg.source.simulate.prefix = prefix;\n",
    "        matlabbatch{1}.spm.meeg.source.simulate.whatconditions.all = 1;\n",
    "        matlabbatch{1}.spm.meeg.source.simulate.isinversion.setsources.woi = invwoi;\n",
    "        matlabbatch{1}.spm.meeg.source.simulate.isinversion.setsources.isSin.foi = mean(invfoi);\n",
    "        matlabbatch{1}.spm.meeg.source.simulate.isinversion.setsources.dipmom = [params.dipole_moment params.sim_patch_size];\n",
    "        matlabbatch{1}.spm.meeg.source.simulate.isinversion.setsources.locs = simpos;\n",
    "        if abs(params.dipole_moment)>0\n",
    "            matlabbatch{1}.spm.meeg.source.simulate.isSNR.setSNR = SNR;               \n",
    "        else\n",
    "            matlabbatch{1}.spm.meeg.source.simulate.isSNR.whitenoise = 100;\n",
    "        end\n",
    "        [a,b]=spm_jobman('run', matlabbatch);\n",
    "        \n",
    "        %% now reconstruct onto all the meshes and look at cross val and F vals\n",
    "        for meshind=1:Nmesh,\n",
    "        \n",
    "            % Copy forward model from pial or white coregistered file\n",
    "            simfilename=fullfile(out_path,sprintf('%s%s_%d.mat',prefix,subj_info.subj_id,session_num));\n",
    "            sim=load(simfilename);\n",
    "            reconcoreg=load(regfiles{meshind});\n",
    "            sim.D.other=reconcoreg.D.other;\n",
    "            D=sim.D;\n",
    "            copyfile(fullfile(out_path, sprintf('SPMgainmatrix_%s_%d_%dcoreg_1.mat', subj_info.subj_id, session_num, meshind)), fullfile(out_path, sprintf('SPMgainmatrix_%s%s_%d_1.mat', prefix, subj_info.subj_id, session_num)));\n",
    "            D.other.inv{1}.gainmat=sprintf('SPMgainmatrix_%s%s_%d_1.mat', prefix, subj_info.subj_id, session_num);\n",
    "            save(simfilename,'D');\n",
    "    \n",
    "            % Resconstruct using each method\n",
    "            for methind=1:Nmeth,                \n",
    "                \n",
    "                % Do inversion of simulated data with this surface\n",
    "                matlabbatch=[];\n",
    "                matlabbatch{1}.spm.meeg.source.invertiter.D = {simfilename};\n",
    "                matlabbatch{1}.spm.meeg.source.invertiter.val = 1;\n",
    "                matlabbatch{1}.spm.meeg.source.invertiter.whatconditions.all = 1;\n",
    "                matlabbatch{1}.spm.meeg.source.invertiter.isstandard.custom.invfunc = 'Classic';\n",
    "                matlabbatch{1}.spm.meeg.source.invertiter.isstandard.custom.invtype = methodnames{methind}; %;\n",
    "                matlabbatch{1}.spm.meeg.source.invertiter.isstandard.custom.woi = invwoi;\n",
    "                matlabbatch{1}.spm.meeg.source.invertiter.isstandard.custom.foi = invfoi;\n",
    "                matlabbatch{1}.spm.meeg.source.invertiter.isstandard.custom.hanning = 1;\n",
    "                matlabbatch{1}.spm.meeg.source.invertiter.isstandard.custom.isfixedpatch.fixedpatch.fixedfile = {patchfilename}; % '<UNDEFINED>';\n",
    "                matlabbatch{1}.spm.meeg.source.invertiter.isstandard.custom.isfixedpatch.fixedpatch.fixedrows = 1; %'<UNDEFINED>';\n",
    "                matlabbatch{1}.spm.meeg.source.invertiter.isstandard.custom.patchfwhm =[-params.reconstruct_patch_size]; %% NB A fiddle here- need to properly quantify\n",
    "                matlabbatch{1}.spm.meeg.source.invertiter.isstandard.custom.mselect = 0;\n",
    "                matlabbatch{1}.spm.meeg.source.invertiter.isstandard.custom.nsmodes = Nmodes;\n",
    "                matlabbatch{1}.spm.meeg.source.invertiter.isstandard.custom.umodes = {spatialmodesnames{simmeshind}};\n",
    "                matlabbatch{1}.spm.meeg.source.invertiter.isstandard.custom.ntmodes = [];\n",
    "                matlabbatch{1}.spm.meeg.source.invertiter.isstandard.custom.priors.priorsmask = {''};\n",
    "                matlabbatch{1}.spm.meeg.source.invertiter.isstandard.custom.priors.space = 1;\n",
    "                matlabbatch{1}.spm.meeg.source.invertiter.isstandard.custom.restrict.locs = zeros(0, 3);\n",
    "                matlabbatch{1}.spm.meeg.source.invertiter.isstandard.custom.restrict.radius = 32;\n",
    "                matlabbatch{1}.spm.meeg.source.invertiter.isstandard.custom.outinv = '';\n",
    "                matlabbatch{1}.spm.meeg.source.invertiter.modality = {'All'};\n",
    "                matlabbatch{1}.spm.meeg.source.invertiter.crossval = [pctest Nfolds];                                \n",
    "                [a1,b1]=spm_jobman('run', matlabbatch);\n",
    "                \n",
    "                % Load inversion - get cross validation error end F\n",
    "                Drecon=spm_eeg_load(simfilename);                \n",
    "                allcrossF(simmeshind,s,meshind,methind)=Drecon.inv{1}.inverse.crossF;\n",
    "                allcrossVE(simmeshind,s,meshind,methind)=Drecon.inv{1}.inverse.VE;\n",
    "                \n",
    "                \n",
    "            end\n",
    "        end\n",
    "        close all;\n",
    "    end\n",
    "end\n",
    "save(fullfile(out_path,params.out_file),'allcrossF','allcrossVE');\n",
    "\n",
    "\n"
   ]
  }
 ],
 "metadata": {
  "kernelspec": {
   "display_name": "megsurfer_matlab",
   "language": "python",
   "name": "megsurfer_matlab"
  },
  "language_info": {
   "codemirror_mode": {
    "name": "ipython",
    "version": 3
   },
   "file_extension": ".py",
   "mimetype": "text/x-python",
   "name": "python",
   "nbconvert_exporter": "python",
   "pygments_lexer": "ipython3",
   "version": "3.6.13"
  }
 },
 "nbformat": 4,
 "nbformat_minor": 4
}
