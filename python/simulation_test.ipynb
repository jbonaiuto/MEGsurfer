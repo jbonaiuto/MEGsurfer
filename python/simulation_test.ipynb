{
 "cells": [
  {
   "cell_type": "code",
   "execution_count": 6,
   "metadata": {},
   "outputs": [],
   "source": [
    "import os\n",
    "import nibabel as nib\n",
    "import numpy as np\n",
    "import matplotlib.pyplot as plt\n",
    "from invert import invert_ebb\n",
    "from simulate import run_sinusoidal_simulation\n",
    "from laminar import model_comparison\n"
   ]
  },
  {
   "cell_type": "code",
   "execution_count": 7,
   "metadata": {},
   "outputs": [],
   "source": [
    "sim_vertex=1000\n",
    "invfoi=[10, 30]\n",
    "dipole_moment=10\n",
    "sim_patch_size=5\n",
    "SNR=-5\n",
    "n_layers=11\n",
    "layers = np.linspace(1, 0, n_layers)"
   ]
  },
  {
   "cell_type": "code",
   "execution_count": 3,
   "metadata": {},
   "outputs": [
    {
     "name": "stdout",
     "output_type": "stream",
     "text": [
      "Smoothing ./test_output/sub-104/multilayer.11.ds.link_vector.gii\n",
      "FWHM of 5.00 is approx 3.33 times vertex spacing\n"
     ]
    }
   ],
   "source": [
    "##\n",
    "# Step 1) Invert the subject's data. This step only has to be done once\n",
    "## \n",
    "\n",
    "data_dir='./test_data'\n",
    "out_dir='./test_output'\n",
    "subj_id='sub-104'\n",
    "ses_id='ses-01'\n",
    "# Subject fiducial coil coordinates\n",
    "nas=[0.9662503311032098, 108.83514306876269, 1.6712361927090313]\n",
    "lpa=[-74.28671169006893, 20.15061014698176, -29.849056272705948]\n",
    "rpa=[76.02110531729883, 18.9467849625573, -25.779407159603114]\n",
    "\n",
    "# T1\n",
    "mri_fname = os.path.join(data_dir,'spm', subj_id, 's2023-02-28_13-33-133958-00001-00224-1.nii')\n",
    "\n",
    "mesh_fname = os.path.join(out_dir, subj_id, 'multilayer.11.ds.link_vector.gii')\n",
    "\n",
    "## Create intermediate surfaces if needed\n",
    "layer_fnames = []\n",
    "for l, layer in enumerate(layers):\n",
    "    if layer == 1:\n",
    "        layer_fnames.append(os.path.join(out_dir, subj_id, 'pial.ds.link_vector.gii'))\n",
    "    elif layer > 0 and layer < 1:\n",
    "        layer_name = '{:.3f}'.format(layer)\n",
    "        layer_fnames.append(os.path.join(out_dir, subj_id, f'{layer_name}.ds.link_vector.gii'))        \n",
    "    elif layer == 0:\n",
    "        layer_fnames.append(os.path.join(out_dir, subj_id, 'white.ds.link_vector.gii'))\n",
    "\n",
    "# Data file to base simulations on\n",
    "data_file=os.path.join(data_dir, 'processed', subj_id, ses_id, 'spm/spm-converted_autoreject-sub-104-ses-01-001-btn_trial-epo.mat')\n",
    "\n",
    "patch_size=5\n",
    "n_temp_modes = 4\n",
    "\n",
    "mesh=nib.load(mesh_fname)\n",
    "verts_per_surf=mesh.darrays[0].data.shape[0]/n_layers\n",
    "\n",
    "[coreg_fname,F]=invert_ebb(subj_id, out_dir, nas, lpa, rpa, mri_fname, mesh_fname, data_file, n_layers, \n",
    "                              patch_size=patch_size, n_temp_modes=n_temp_modes)"
   ]
  },
  {
   "cell_type": "code",
   "execution_count": 4,
   "metadata": {},
   "outputs": [
    {
     "name": "stdout",
     "output_type": "stream",
     "text": [
      "Smoothing ./test_output/sub-104/pial.ds.link_vector.gii\n",
      "FWHM of 5.00 is approx 3.11 times vertex spacing\n",
      "Smoothing ./test_output/sub-104/white.ds.link_vector.gii\n",
      "FWHM of 5.00 is approx 3.58 times vertex spacing\n"
     ]
    },
    {
     "data": {
      "text/plain": [
       "8.203018436702223"
      ]
     },
     "execution_count": 4,
     "metadata": {},
     "output_type": "execute_result"
    }
   ],
   "source": [
    "# Simulate on pial surface\n",
    "pial_vertex=sim_vertex\n",
    "sim_fname=run_sinusoidal_simulation(coreg_fname, mri_fname, mesh_fname, nas, lpa, rpa, pial_vertex, \n",
    "                                    invfoi, dipole_moment, sim_patch_size, SNR)    \n",
    "[pialF,whiteF]=model_comparison(subj_id, out_dir, nas, lpa, rpa, mri_fname, [layer_fnames[0], layer_fnames[-1]], \n",
    "                                sim_fname, patch_size=sim_patch_size, n_temp_modes=n_temp_modes)\n",
    "pialF-whiteF"
   ]
  },
  {
   "cell_type": "code",
   "execution_count": 5,
   "metadata": {},
   "outputs": [
    {
     "name": "stdout",
     "output_type": "stream",
     "text": [
      "Smoothing ./test_output/sub-104/pial.ds.link_vector.gii\n",
      "FWHM of 5.00 is approx 3.11 times vertex spacing\n",
      "Smoothing ./test_output/sub-104/white.ds.link_vector.gii\n",
      "FWHM of 5.00 is approx 3.58 times vertex spacing\n"
     ]
    },
    {
     "data": {
      "text/plain": [
       "-10.199661697934971"
      ]
     },
     "execution_count": 5,
     "metadata": {},
     "output_type": "execute_result"
    }
   ],
   "source": [
    "# Simulate on white matter surface\n",
    "white_vertex=(n_layers-1)*verts_per_surf+sim_vertex\n",
    "sim_fname=run_sinusoidal_simulation(coreg_fname, mri_fname, mesh_fname, nas, lpa, rpa, white_vertex, \n",
    "                                    invfoi, dipole_moment, sim_patch_size, SNR) \n",
    "[pialF,whiteF]=model_comparison(subj_id, out_dir, nas, lpa, rpa, mri_fname, [layer_fnames[0], layer_fnames[-1]], \n",
    "                                sim_fname, patch_size=sim_patch_size, n_temp_modes=n_temp_modes)\n",
    "pialF-whiteF"
   ]
  },
  {
   "cell_type": "code",
   "execution_count": null,
   "metadata": {},
   "outputs": [
    {
     "name": "stdout",
     "output_type": "stream",
     "text": [
      "Smoothing ./test_output/sub-104/pial.ds.link_vector.gii\n",
      "FWHM of 5.00 is approx 3.11 times vertex spacing\n",
      "Smoothing ./test_output/sub-104/0.900.ds.link_vector.gii\n",
      "FWHM of 5.00 is approx 3.15 times vertex spacing\n"
     ]
    }
   ],
   "source": [
    "layerF=model_comparison(subj_id, out_dir, nas, lpa, rpa, mri_fname, layer_fnames,\n",
    "                        sim_fname, patch_size=sim_patch_size, n_temp_modes=n_temp_modes)"
   ]
  },
  {
   "cell_type": "code",
   "execution_count": null,
   "metadata": {},
   "outputs": [],
   "source": [
    "plt.plot(layerF-np.min(layerF))"
   ]
  },
  {
   "cell_type": "code",
   "execution_count": null,
   "metadata": {},
   "outputs": [],
   "source": [
    "all_layerF=[]\n",
    "for l, layer in enumerate(layers):\n",
    "    l_vertex=l*verts_per_surf+sim_vertex\n",
    "    sim_fname=run_sinusoidal_simulation(coreg_fname, mri_fname, mesh_fname, nas, lpa, rpa, l_vertex, \n",
    "                                        invfoi, dipole_moment, sim_patch_size, SNR) \n",
    "    layerF=model_comparison(subj_id, out_dir, nas, lpa, rpa, mri_fname, layer_fnames,\n",
    "                            sim_fname, patch_size=sim_patch_size, n_temp_modes=n_temp_modes)\n",
    "    all_layerF.append(layerF)\n",
    "all_layerF=np.array(all_layerF)"
   ]
  }
 ],
 "metadata": {
  "kernelspec": {
   "display_name": "megsurfer_matlab",
   "language": "python",
   "name": "megsurfer_matlab"
  },
  "language_info": {
   "codemirror_mode": {
    "name": "ipython",
    "version": 3
   },
   "file_extension": ".py",
   "mimetype": "text/x-python",
   "name": "python",
   "nbconvert_exporter": "python",
   "pygments_lexer": "ipython3",
   "version": "3.6.13"
  }
 },
 "nbformat": 4,
 "nbformat_minor": 4
}
