{
 "cells": [
  {
   "cell_type": "code",
   "execution_count": 1,
   "metadata": {},
   "outputs": [],
   "source": [
    "import os\n",
    "import nibabel as nib\n",
    "import numpy as np\n",
    "import matplotlib.pyplot as plt\n",
    "from invert import invert_ebb\n",
    "from simulate import run_sinusoidal_simulation\n",
    "from laminar import model_comparison\n"
   ]
  },
  {
   "cell_type": "code",
   "execution_count": 6,
   "metadata": {},
   "outputs": [],
   "source": [
    "sim_vertex=420\n",
    "freq=20\n",
    "dipole_moment=10\n",
    "sim_patch_size=5\n",
    "SNR=-5\n",
    "n_layers=11\n",
    "layers = np.linspace(1, 0, n_layers)\n",
    "\n",
    "data_dir='./test_data'\n",
    "out_dir='./test_output'\n",
    "subj_id='sub-104'\n",
    "ses_id='ses-01'\n",
    "# Subject fiducial coil coordinates\n",
    "nas=[0.9662503311032098, 108.83514306876269, 1.6712361927090313]\n",
    "lpa=[-74.28671169006893, 20.15061014698176, -29.849056272705948]\n",
    "rpa=[76.02110531729883, 18.9467849625573, -25.779407159603114]\n",
    "\n",
    "# T1\n",
    "mri_fname = os.path.join(data_dir,'spm', subj_id, 's2023-02-28_13-33-133958-00001-00224-1.nii')\n",
    "\n",
    "mesh_fname = os.path.join(out_dir, subj_id, 'multilayer.11.ds.link_vector.gii')\n",
    "\n",
    "## Create intermediate surfaces if needed\n",
    "layer_fnames = []\n",
    "for l, layer in enumerate(layers):\n",
    "    if layer == 1:\n",
    "        layer_fnames.append(os.path.join(out_dir, subj_id, 'pial.ds.link_vector.gii'))\n",
    "    elif layer > 0 and layer < 1:\n",
    "        layer_name = '{:.3f}'.format(layer)\n",
    "        layer_fnames.append(os.path.join(out_dir, subj_id, f'{layer_name}.ds.link_vector.gii'))        \n",
    "    elif layer == 0:\n",
    "        layer_fnames.append(os.path.join(out_dir, subj_id, 'white.ds.link_vector.gii'))\n",
    "\n",
    "# Data file to base simulations on\n",
    "data_file=os.path.join(data_dir, 'processed', subj_id, ses_id, 'spm/spm-converted_autoreject-sub-104-ses-01-001-btn_trial-epo.mat')\n",
    "\n",
    "patch_size=5\n",
    "n_temp_modes = 4\n",
    "\n",
    "mesh=nib.load(mesh_fname)\n",
    "verts_per_surf=mesh.darrays[0].data.shape[0]/n_layers\n"
   ]
  },
  {
   "cell_type": "code",
   "execution_count": 13,
   "metadata": {},
   "outputs": [
    {
     "name": "stdout",
     "output_type": "stream",
     "text": [
      "Smoothing ./test_output/sub-104/multilayer.11.ds.link_vector.gii\n",
      "FWHM of 5.00 is approx 3.33 times vertex spacing\n"
     ]
    },
    {
     "ename": "EngineError",
     "evalue": "MATLAB function cannot be evaluated",
     "output_type": "error",
     "traceback": [
      "\u001b[0;31m---------------------------------------------------------------------------\u001b[0m",
      "\u001b[0;31mEngineError\u001b[0m                               Traceback (most recent call last)",
      "\u001b[0;32m<ipython-input-13-2c0360b27270>\u001b[0m in \u001b[0;36m<module>\u001b[0;34m\u001b[0m\n\u001b[1;32m      1\u001b[0m \u001b[0;31m# Invert the subject's data. This step only has to be done once\u001b[0m\u001b[0;34m\u001b[0m\u001b[0;34m\u001b[0m\u001b[0;34m\u001b[0m\u001b[0m\n\u001b[1;32m      2\u001b[0m [coreg_fname,F]=invert_ebb(subj_id, out_dir, nas, lpa, rpa, mri_fname, mesh_fname, data_file, n_layers, \n\u001b[0;32m----> 3\u001b[0;31m                               patch_size=patch_size, n_temp_modes=n_temp_modes)\n\u001b[0m",
      "\u001b[0;32m~/Dropbox/Projects/software/MEGsurfer/python/invert.py\u001b[0m in \u001b[0;36minvert_ebb\u001b[0;34m(subj_id, out_dir, nas, lpa, rpa, mri_fname, mesh_fname, data_file, n_layers, patch_size, n_temp_modes, woi)\u001b[0m\n\u001b[1;32m     20\u001b[0m \u001b[0;34m\u001b[0m\u001b[0m\n\u001b[1;32m     21\u001b[0m     F=parasite.invert_ebb(data_file, coreg_fname, mri_fname, mesh_fname, nas, lpa, rpa, float(patch_size),\n\u001b[0;32m---> 22\u001b[0;31m                           float(n_temp_modes), woi, nargout=1)\n\u001b[0m\u001b[1;32m     23\u001b[0m     \u001b[0mparasite\u001b[0m\u001b[0;34m.\u001b[0m\u001b[0mclose\u001b[0m\u001b[0;34m(\u001b[0m\u001b[0;34m)\u001b[0m\u001b[0;34m\u001b[0m\u001b[0;34m\u001b[0m\u001b[0m\n\u001b[1;32m     24\u001b[0m \u001b[0;34m\u001b[0m\u001b[0m\n",
      "\u001b[0;32m~/miniconda3/envs/megsurfer_matlab/lib/python3.6/site-packages/matlab/engine/matlabengine.py\u001b[0m in \u001b[0;36m__call__\u001b[0;34m(self, *args, **kwargs)\u001b[0m\n\u001b[1;32m     69\u001b[0m         \u001b[0;32melse\u001b[0m\u001b[0;34m:\u001b[0m\u001b[0;34m\u001b[0m\u001b[0;34m\u001b[0m\u001b[0m\n\u001b[1;32m     70\u001b[0m             return FutureResult(self._engine(), future, nargs, _stdout,\n\u001b[0;32m---> 71\u001b[0;31m                                 _stderr, feval=True).result()\n\u001b[0m\u001b[1;32m     72\u001b[0m \u001b[0;34m\u001b[0m\u001b[0m\n\u001b[1;32m     73\u001b[0m     \u001b[0;32mdef\u001b[0m \u001b[0m__validate_engine\u001b[0m\u001b[0;34m(\u001b[0m\u001b[0mself\u001b[0m\u001b[0;34m)\u001b[0m\u001b[0;34m:\u001b[0m\u001b[0;34m\u001b[0m\u001b[0;34m\u001b[0m\u001b[0m\n",
      "\u001b[0;32m~/miniconda3/envs/megsurfer_matlab/lib/python3.6/site-packages/matlab/engine/futureresult.py\u001b[0m in \u001b[0;36mresult\u001b[0;34m(self, timeout)\u001b[0m\n\u001b[1;32m     65\u001b[0m                 \u001b[0;32mraise\u001b[0m \u001b[0mTypeError\u001b[0m\u001b[0;34m(\u001b[0m\u001b[0mpythonengine\u001b[0m\u001b[0;34m.\u001b[0m\u001b[0mgetMessage\u001b[0m\u001b[0;34m(\u001b[0m\u001b[0;34m'TimeoutCannotBeNegative'\u001b[0m\u001b[0;34m)\u001b[0m\u001b[0;34m)\u001b[0m\u001b[0;34m\u001b[0m\u001b[0;34m\u001b[0m\u001b[0m\n\u001b[1;32m     66\u001b[0m \u001b[0;34m\u001b[0m\u001b[0m\n\u001b[0;32m---> 67\u001b[0;31m         \u001b[0;32mreturn\u001b[0m \u001b[0mself\u001b[0m\u001b[0;34m.\u001b[0m\u001b[0m__future\u001b[0m\u001b[0;34m.\u001b[0m\u001b[0mresult\u001b[0m\u001b[0;34m(\u001b[0m\u001b[0mtimeout\u001b[0m\u001b[0;34m)\u001b[0m\u001b[0;34m\u001b[0m\u001b[0;34m\u001b[0m\u001b[0m\n\u001b[0m\u001b[1;32m     68\u001b[0m \u001b[0;34m\u001b[0m\u001b[0m\n\u001b[1;32m     69\u001b[0m     \u001b[0;32mdef\u001b[0m \u001b[0mcancel\u001b[0m\u001b[0;34m(\u001b[0m\u001b[0mself\u001b[0m\u001b[0;34m)\u001b[0m\u001b[0;34m:\u001b[0m\u001b[0;34m\u001b[0m\u001b[0;34m\u001b[0m\u001b[0m\n",
      "\u001b[0;32m~/miniconda3/envs/megsurfer_matlab/lib/python3.6/site-packages/matlab/engine/fevalfuture.py\u001b[0m in \u001b[0;36mresult\u001b[0;34m(self, timeout)\u001b[0m\n\u001b[1;32m     80\u001b[0m                 \u001b[0;32mraise\u001b[0m \u001b[0mTimeoutError\u001b[0m\u001b[0;34m(\u001b[0m\u001b[0mpythonengine\u001b[0m\u001b[0;34m.\u001b[0m\u001b[0mgetMessage\u001b[0m\u001b[0;34m(\u001b[0m\u001b[0;34m'MatlabFunctionTimeout'\u001b[0m\u001b[0;34m)\u001b[0m\u001b[0;34m)\u001b[0m\u001b[0;34m\u001b[0m\u001b[0;34m\u001b[0m\u001b[0m\n\u001b[1;32m     81\u001b[0m \u001b[0;34m\u001b[0m\u001b[0m\n\u001b[0;32m---> 82\u001b[0;31m             \u001b[0mself\u001b[0m\u001b[0;34m.\u001b[0m\u001b[0m_result\u001b[0m \u001b[0;34m=\u001b[0m \u001b[0mpythonengine\u001b[0m\u001b[0;34m.\u001b[0m\u001b[0mgetFEvalResult\u001b[0m\u001b[0;34m(\u001b[0m\u001b[0mself\u001b[0m\u001b[0;34m.\u001b[0m\u001b[0m_future\u001b[0m\u001b[0;34m,\u001b[0m\u001b[0mself\u001b[0m\u001b[0;34m.\u001b[0m\u001b[0m_nargout\u001b[0m\u001b[0;34m,\u001b[0m \u001b[0;32mNone\u001b[0m\u001b[0;34m,\u001b[0m \u001b[0mout\u001b[0m\u001b[0;34m=\u001b[0m\u001b[0mself\u001b[0m\u001b[0;34m.\u001b[0m\u001b[0m_out\u001b[0m\u001b[0;34m,\u001b[0m \u001b[0merr\u001b[0m\u001b[0;34m=\u001b[0m\u001b[0mself\u001b[0m\u001b[0;34m.\u001b[0m\u001b[0m_err\u001b[0m\u001b[0;34m)\u001b[0m\u001b[0;34m\u001b[0m\u001b[0;34m\u001b[0m\u001b[0m\n\u001b[0m\u001b[1;32m     83\u001b[0m             \u001b[0mself\u001b[0m\u001b[0;34m.\u001b[0m\u001b[0m_retrieved\u001b[0m \u001b[0;34m=\u001b[0m \u001b[0;32mTrue\u001b[0m\u001b[0;34m\u001b[0m\u001b[0;34m\u001b[0m\u001b[0m\n\u001b[1;32m     84\u001b[0m             \u001b[0;32mreturn\u001b[0m \u001b[0mself\u001b[0m\u001b[0;34m.\u001b[0m\u001b[0m_result\u001b[0m\u001b[0;34m\u001b[0m\u001b[0;34m\u001b[0m\u001b[0m\n",
      "\u001b[0;31mEngineError\u001b[0m: MATLAB function cannot be evaluated"
     ]
    }
   ],
   "source": [
    "# Invert the subject's data. This step only has to be done once\n",
    "[coreg_fname,F]=invert_ebb(subj_id, out_dir, nas, lpa, rpa, mri_fname, mesh_fname, data_file, n_layers, \n",
    "                              patch_size=patch_size, n_temp_modes=n_temp_modes)"
   ]
  },
  {
   "cell_type": "code",
   "execution_count": 7,
   "metadata": {},
   "outputs": [],
   "source": [
    "coreg_fname='./test_output/sub-104/inv/multilayer.11.ds.link_vector.spm-converted_autoreject-sub-104-ses-01-001-btn_trial-epo.mat'"
   ]
  },
  {
   "cell_type": "code",
   "execution_count": null,
   "metadata": {},
   "outputs": [],
   "source": [
    "# Simulate on pial surface\n",
    "pial_vertex=sim_vertex\n",
    "sim_fname=run_sinusoidal_simulation(coreg_fname, mri_fname, mesh_fname, nas, lpa, rpa, pial_vertex, \n",
    "                                    freq, dipole_moment, sim_patch_size, SNR)    \n",
    "[pialF,whiteF]=model_comparison(subj_id, out_dir, nas, lpa, rpa, mri_fname, [layer_fnames[0], layer_fnames[-1]], \n",
    "                                sim_fname, patch_size=sim_patch_size, n_temp_modes=n_temp_modes)\n",
    "pialF-whiteF"
   ]
  },
  {
   "cell_type": "code",
   "execution_count": 10,
   "metadata": {},
   "outputs": [
    {
     "data": {
      "text/plain": [
       "'sim_mesh.420.multilayer.11.ds.link_vector.mat'"
      ]
     },
     "execution_count": 10,
     "metadata": {},
     "output_type": "execute_result"
    }
   ],
   "source": [
    "sim_fname"
   ]
  },
  {
   "cell_type": "code",
   "execution_count": null,
   "metadata": {},
   "outputs": [],
   "source": [
    "# Simulate on white matter surface\n",
    "white_vertex=(n_layers-1)*verts_per_surf+sim_vertex\n",
    "sim_fname=run_sinusoidal_simulation(coreg_fname, mri_fname, mesh_fname, nas, lpa, rpa, white_vertex, \n",
    "                                    freq, dipole_moment, sim_patch_size, SNR) \n",
    "[pialF,whiteF]=model_comparison(subj_id, out_dir, nas, lpa, rpa, mri_fname, [layer_fnames[0], layer_fnames[-1]], \n",
    "                                sim_fname, patch_size=sim_patch_size, n_temp_modes=n_temp_modes)\n",
    "pialF-whiteF"
   ]
  },
  {
   "cell_type": "code",
   "execution_count": 9,
   "metadata": {},
   "outputs": [
    {
     "name": "stdout",
     "output_type": "stream",
     "text": [
      "Smoothing ./test_output/sub-104/pial.ds.link_vector.gii\n",
      "FWHM of 5.00 is approx 3.11 times vertex spacing\n",
      "Smoothing ./test_output/sub-104/0.900.ds.link_vector.gii\n",
      "FWHM of 5.00 is approx 3.15 times vertex spacing\n",
      "Smoothing ./test_output/sub-104/0.800.ds.link_vector.gii\n",
      "FWHM of 5.00 is approx 3.20 times vertex spacing\n",
      "Smoothing ./test_output/sub-104/0.700.ds.link_vector.gii\n",
      "FWHM of 5.00 is approx 3.24 times vertex spacing\n",
      "Smoothing ./test_output/sub-104/0.600.ds.link_vector.gii\n",
      "FWHM of 5.00 is approx 3.29 times vertex spacing\n",
      "Smoothing ./test_output/sub-104/0.500.ds.link_vector.gii\n",
      "FWHM of 5.00 is approx 3.33 times vertex spacing\n",
      "Smoothing ./test_output/sub-104/0.400.ds.link_vector.gii\n",
      "FWHM of 5.00 is approx 3.38 times vertex spacing\n",
      "Smoothing ./test_output/sub-104/0.300.ds.link_vector.gii\n",
      "FWHM of 5.00 is approx 3.43 times vertex spacing\n",
      "Smoothing ./test_output/sub-104/0.200.ds.link_vector.gii\n",
      "FWHM of 5.00 is approx 3.48 times vertex spacing\n",
      "Smoothing ./test_output/sub-104/0.100.ds.link_vector.gii\n",
      "FWHM of 5.00 is approx 3.53 times vertex spacing\n",
      "Smoothing ./test_output/sub-104/white.ds.link_vector.gii\n",
      "FWHM of 5.00 is approx 3.58 times vertex spacing\n"
     ]
    }
   ],
   "source": [
    "layerF=model_comparison(subj_id, out_dir, nas, lpa, rpa, mri_fname, layer_fnames,\n",
    "                        sim_fname, patch_size=sim_patch_size, n_temp_modes=n_temp_modes)"
   ]
  },
  {
   "cell_type": "code",
   "execution_count": 10,
   "metadata": {},
   "outputs": [
    {
     "data": {
      "text/plain": [
       "[<matplotlib.lines.Line2D at 0x7fc05fd00b00>]"
      ]
     },
     "execution_count": 10,
     "metadata": {},
     "output_type": "execute_result"
    },
    {
     "data": {
      "image/png": "[encoded data removed]",
      "text/plain": [
       "<Figure size 432x288 with 1 Axes>"
      ]
     },
     "metadata": {
      "needs_background": "light"
     },
     "output_type": "display_data"
    }
   ],
   "source": [
    "layerF=np.array(layerF)\n",
    "plt.plot(layerF-np.min(layerF))"
   ]
  },
  {
   "cell_type": "code",
   "execution_count": null,
   "metadata": {},
   "outputs": [
    {
     "name": "stdout",
     "output_type": "stream",
     "text": [
      "Smoothing ./test_output/sub-104/pial.ds.link_vector.gii\n",
      "FWHM of 5.00 is approx 3.11 times vertex spacing\n",
      "Smoothing ./test_output/sub-104/0.900.ds.link_vector.gii\n",
      "FWHM of 5.00 is approx 3.15 times vertex spacing\n",
      "Smoothing ./test_output/sub-104/0.800.ds.link_vector.gii\n",
      "FWHM of 5.00 is approx 3.20 times vertex spacing\n",
      "Smoothing ./test_output/sub-104/0.700.ds.link_vector.gii\n",
      "FWHM of 5.00 is approx 3.24 times vertex spacing\n",
      "Smoothing ./test_output/sub-104/0.600.ds.link_vector.gii\n",
      "FWHM of 5.00 is approx 3.29 times vertex spacing\n",
      "Smoothing ./test_output/sub-104/0.500.ds.link_vector.gii\n",
      "FWHM of 5.00 is approx 3.33 times vertex spacing\n",
      "Smoothing ./test_output/sub-104/0.400.ds.link_vector.gii\n",
      "FWHM of 5.00 is approx 3.38 times vertex spacing\n",
      "Smoothing ./test_output/sub-104/0.300.ds.link_vector.gii\n",
      "FWHM of 5.00 is approx 3.43 times vertex spacing\n",
      "Smoothing ./test_output/sub-104/0.200.ds.link_vector.gii\n",
      "FWHM of 5.00 is approx 3.48 times vertex spacing\n",
      "Smoothing ./test_output/sub-104/0.100.ds.link_vector.gii\n",
      "FWHM of 5.00 is approx 3.53 times vertex spacing\n",
      "Smoothing ./test_output/sub-104/white.ds.link_vector.gii\n",
      "FWHM of 5.00 is approx 3.58 times vertex spacing\n",
      "Smoothing ./test_output/sub-104/pial.ds.link_vector.gii\n",
      "FWHM of 5.00 is approx 3.11 times vertex spacing\n",
      "Smoothing ./test_output/sub-104/0.900.ds.link_vector.gii\n",
      "FWHM of 5.00 is approx 3.15 times vertex spacing\n",
      "Smoothing ./test_output/sub-104/0.800.ds.link_vector.gii\n",
      "FWHM of 5.00 is approx 3.20 times vertex spacing\n",
      "Smoothing ./test_output/sub-104/0.700.ds.link_vector.gii\n",
      "FWHM of 5.00 is approx 3.24 times vertex spacing\n",
      "Smoothing ./test_output/sub-104/0.600.ds.link_vector.gii\n",
      "FWHM of 5.00 is approx 3.29 times vertex spacing\n",
      "Smoothing ./test_output/sub-104/0.500.ds.link_vector.gii\n",
      "FWHM of 5.00 is approx 3.33 times vertex spacing\n",
      "Smoothing ./test_output/sub-104/0.400.ds.link_vector.gii\n",
      "FWHM of 5.00 is approx 3.38 times vertex spacing\n",
      "Smoothing ./test_output/sub-104/0.300.ds.link_vector.gii\n",
      "FWHM of 5.00 is approx 3.43 times vertex spacing\n",
      "Smoothing ./test_output/sub-104/0.200.ds.link_vector.gii\n",
      "FWHM of 5.00 is approx 3.48 times vertex spacing\n",
      "Smoothing ./test_output/sub-104/0.100.ds.link_vector.gii\n",
      "FWHM of 5.00 is approx 3.53 times vertex spacing\n",
      "Smoothing ./test_output/sub-104/white.ds.link_vector.gii\n",
      "FWHM of 5.00 is approx 3.58 times vertex spacing\n"
     ]
    }
   ],
   "source": [
    "all_layerF=[]\n",
    "for l, layer in enumerate(layers):\n",
    "    l_vertex=l*verts_per_surf+sim_vertex\n",
    "    sim_fname=run_sinusoidal_simulation(coreg_fname, mri_fname, mesh_fname, nas, lpa, rpa, l_vertex, \n",
    "                                        invfoi, dipole_moment, sim_patch_size, SNR) \n",
    "    layerF=model_comparison(subj_id, out_dir, nas, lpa, rpa, mri_fname, layer_fnames,\n",
    "                            sim_fname, patch_size=sim_patch_size, n_temp_modes=n_temp_modes)\n",
    "    all_layerF.append(layerF)\n",
    "all_layerF=np.array(all_layerF)"
   ]
  },
  {
   "cell_type": "code",
   "execution_count": null,
   "metadata": {},
   "outputs": [],
   "source": [
    "plt.figure()\n",
    "for l in range(n_layers):\n",
    "    layerF=all_layerF[l,:]\n",
    "    plt.plot(layerF-np.min(layerF), label=f'{l}')\n",
    "plt.legend()"
   ]
  },
  {
   "cell_type": "code",
   "execution_count": null,
   "metadata": {},
   "outputs": [],
   "source": []
  }
 ],
 "metadata": {
  "kernelspec": {
   "display_name": "megsurfer_matlab",
   "language": "python",
   "name": "megsurfer_matlab"
  },
  "language_info": {
   "codemirror_mode": {
    "name": "ipython",
    "version": 3
   },
   "file_extension": ".py",
   "mimetype": "text/x-python",
   "name": "python",
   "nbconvert_exporter": "python",
   "pygments_lexer": "ipython3",
   "version": "3.6.13"
  }
 },
 "nbformat": 4,
 "nbformat_minor": 4
}
