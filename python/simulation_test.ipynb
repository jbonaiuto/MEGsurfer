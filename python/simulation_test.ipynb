{
 "cells": [
  {
   "cell_type": "code",
   "execution_count": 1,
   "metadata": {},
   "outputs": [],
   "source": [
    "import os\n",
    "import nibabel as nib\n",
    "from invert import invert_ebb\n",
    "from simulate import run_sinusoidal_simulation\n",
    "from laminar import model_comparison\n"
   ]
  },
  {
   "cell_type": "code",
   "execution_count": 2,
   "metadata": {},
   "outputs": [],
   "source": [
    "sim_vertex=1000\n",
    "invfoi=[10, 30]\n",
    "dipole_moment=10\n",
    "sim_patch_size=5\n",
    "SNR=-5"
   ]
  },
  {
   "cell_type": "code",
   "execution_count": 3,
   "metadata": {},
   "outputs": [
    {
     "name": "stdout",
     "output_type": "stream",
     "text": [
      "Smoothing mesh\n",
      "FWHM of 5.00 is approx 3.32 times vertex spacing\n",
      "0.05 seconds\n"
     ]
    }
   ],
   "source": [
    "##\n",
    "# Step 1) Invert the subject's data. This step only has to be done once\n",
    "## \n",
    "\n",
    "data_dir='./test_data'\n",
    "out_dir='./test_output'\n",
    "subj_id='sub-104'\n",
    "ses_id='ses-01'\n",
    "# Subject fiducial coil coordinates\n",
    "nas=[0.9662503311032098, 108.83514306876269, 1.6712361927090313]\n",
    "lpa=[-74.28671169006893, 20.15061014698176, -29.849056272705948]\n",
    "rpa=[76.02110531729883, 18.9467849625573, -25.779407159603114]\n",
    "\n",
    "# T1\n",
    "mri_fname = os.path.join(data_dir,'spm', subj_id, 's2023-02-28_13-33-133958-00001-00224-1.nii')\n",
    "\n",
    "#mesh_fname = os.path.join(out_dir, subj_id, 'multilayer.2.ds.link_vector.gii')\n",
    "mesh_fname = os.path.join(out_dir, subj_id, 'multilayer.11.ds.link_vector.gii')\n",
    "pial_fname = os.path.join(out_dir, subj_id, 'pial.ds.link_vector.gii')\n",
    "white_fname = os.path.join(out_dir, subj_id, 'white.ds.link_vector.gii')\n",
    "\n",
    "# Data file to base simulations on\n",
    "data_file=os.path.join(data_dir, 'processed', subj_id, ses_id, 'spm/spm-converted_autoreject-sub-104-ses-01-001-btn_trial-epo.mat')\n",
    "\n",
    "patch_size=5\n",
    "n_temp_modes = 4\n",
    "#n_layers=2\n",
    "n_layers=11\n",
    "\n",
    "mesh=nib.load(mesh_fname)\n",
    "verts_per_surf=mesh.darrays[0].data.shape[0]/n_layers\n",
    "\n",
    "[coreg_fname,F]=invert_ebb(subj_id, out_dir, nas, lpa, rpa, mri_fname, mesh_fname, data_file, n_layers, \n",
    "                              patch_size=patch_size, n_temp_modes=n_temp_modes)"
   ]
  },
  {
   "cell_type": "code",
   "execution_count": 4,
   "metadata": {},
   "outputs": [
    {
     "name": "stdout",
     "output_type": "stream",
     "text": [
      "Smoothing mesh\n",
      "FWHM of 5.00 is approx 3.11 times vertex spacing\n",
      "0.03 seconds\n",
      "Smoothing mesh\n",
      "FWHM of 5.00 is approx 3.58 times vertex spacing\n",
      "0.03 seconds\n"
     ]
    },
    {
     "data": {
      "text/plain": [
       "8.203018436702223"
      ]
     },
     "execution_count": 4,
     "metadata": {},
     "output_type": "execute_result"
    }
   ],
   "source": [
    "# Simulate on pial surface\n",
    "sim_fname=run_sinusoidal_simulation(coreg_fname, mri_fname, mesh_fname, nas, lpa, rpa, sim_vertex, \n",
    "                                    invfoi, dipole_moment, sim_patch_size, SNR)    \n",
    "[pialF,whiteF]=model_comparison(subj_id, out_dir, nas, lpa, rpa, mri_fname, [pial_fname, white_fname], \n",
    "                                sim_fname, patch_size=sim_patch_size, n_temp_modes=n_temp_modes)\n",
    "pialF-whiteF"
   ]
  },
  {
   "cell_type": "code",
   "execution_count": 6,
   "metadata": {},
   "outputs": [
    {
     "name": "stdout",
     "output_type": "stream",
     "text": [
      "Smoothing mesh\n",
      "FWHM of 5.00 is approx 3.11 times vertex spacing\n",
      "0.03 seconds\n",
      "Smoothing mesh\n",
      "FWHM of 5.00 is approx 3.58 times vertex spacing\n",
      "0.03 seconds\n"
     ]
    },
    {
     "data": {
      "text/plain": [
       "-10.199661697934971"
      ]
     },
     "execution_count": 6,
     "metadata": {},
     "output_type": "execute_result"
    }
   ],
   "source": [
    "# Simulate on white matter surface\n",
    "sim_fname=run_sinusoidal_simulation(coreg_fname, mri_fname, mesh_fname, nas, lpa, rpa, sim_vertex+verts_per_surf, \n",
    "                                    invfoi, dipole_moment, sim_patch_size, SNR) \n",
    "[pialF,whiteF]=model_comparison(subj_id, out_dir, nas, lpa, rpa, mri_fname, [pial_fname, white_fname], \n",
    "                                sim_fname, patch_size=sim_patch_size, n_temp_modes=n_temp_modes)\n",
    "pialF-whiteF"
   ]
  },
  {
   "cell_type": "code",
   "execution_count": null,
   "metadata": {},
   "outputs": [],
   "source": []
  }
 ],
 "metadata": {
  "kernelspec": {
   "display_name": "megsurfer_matlab",
   "language": "python",
   "name": "megsurfer_matlab"
  },
  "language_info": {
   "codemirror_mode": {
    "name": "ipython",
    "version": 3
   },
   "file_extension": ".py",
   "mimetype": "text/x-python",
   "name": "python",
   "nbconvert_exporter": "python",
   "pygments_lexer": "ipython3",
   "version": "3.6.13"
  }
 },
 "nbformat": 4,
 "nbformat_minor": 4
}
